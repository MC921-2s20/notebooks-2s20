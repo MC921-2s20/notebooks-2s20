{
 "cells": [
  {
   "cell_type": "markdown",
   "metadata": {},
   "source": [
    "# Second Project: Parser"
   ]
  },
  {
   "cell_type": "markdown",
   "metadata": {},
   "source": [
    "The second project requires you to implement a Parser (note that the Abstract Syntax Tree\n",
    "will be built only in the third project) for the uC language.\n",
    "To complete this second project, you will also use the [PLY](http://www.dabeaz.com/ply/),\n",
    "a Python version of the [lex/yacc](http://dinosaur.compilertools.net/) toolset with same\n",
    "functionality but with a friendlier interface. Please read the complete contents of this\n",
    "section and carefully complete the steps indicated."
   ]
  },
  {
   "cell_type": "markdown",
   "metadata": {},
   "source": [
    "# Parser at a glance: Building a Parser Tree\n",
    "Consider the following grammar. We will develop a parser to recognize sentences in this\n",
    "grammar and build a parse tree for them."
   ]
  },
  {
   "cell_type": "code",
   "execution_count": null,
   "metadata": {
    "pycharm": {
     "name": "#%%\n"
    }
   },
   "outputs": [],
   "source": [
    "# Grammar\n",
    "'''\n",
    "statements : statements statement\n",
    "           | statement\n",
    "\n",
    "statement : ID EQ expr\n",
    "          | PRINT LPAREN expr RPAREN\n",
    "\n",
    "expr : expr PLUS expr\n",
    "     | expr TIMES expr\n",
    "     | NUM\n",
    "     | ID\n",
    "     | LPAREN expr RPAREN\n",
    "'''"
   ]
  },
  {
   "cell_type": "markdown",
   "metadata": {},
   "source": [
    " Example of valid sentences for this grammar"
   ]
  },
  {
   "cell_type": "raw",
   "metadata": {},
   "source": [
    "a = 3 * 4 + 5\n",
    "print (a)"
   ]
  },
  {
   "cell_type": "markdown",
   "metadata": {},
   "source": [
    "## Lexer\n",
    "The first step is to build a lexical analyzer for the terminals of this grammar:"
   ]
  },
  {
   "cell_type": "code",
   "execution_count": null,
   "metadata": {
    "pycharm": {
     "name": "#%%\n"
    }
   },
   "outputs": [],
   "source": [
    "from ply.lex import lex\n",
    "\n",
    "# tokens\n",
    "tokens = ('ID', 'NUM', 'PLUS', 'TIMES', 'EQ', 'LPAREN', 'RPAREN', 'PRINT',)\n",
    "\n",
    "def t_ID(t):\n",
    "    r'[a-zA-Z_][a-zA-Z0-9_]*'\n",
    "    if t.value == 'print':\n",
    "        t.type = \"PRINT\"\n",
    "    return t\n",
    "\n",
    "def t_NUM(t):\n",
    "    r'[0-9]+'\n",
    "    t.value = int(t.value)\n",
    "    return t\n",
    "\n",
    "t_PLUS = r'\\+'\n",
    "t_TIMES = r'\\*'\n",
    "t_EQ = r'='\n",
    "t_LPAREN = r'\\('\n",
    "t_RPAREN = r'\\)'\n",
    "\n",
    "def t_error(t):\n",
    "    print(f'Illegal character {t.value[0]}')\n",
    "    t.lexer.skip(1)\n",
    "\n",
    "t_ignore = ' \\t'\n",
    "\n",
    "__file__ = 'parser_at_a_glance.ipynb'    # necessário apenas no contexto do jupyter\n",
    "lexer = lex()\n",
    "\n",
    "lexer.input(\"a = 3 * 4 + 5\")\n",
    "for tok in lexer:\n",
    "    print(tok)"
   ]
  },
  {
   "cell_type": "markdown",
   "metadata": {},
   "source": [
    "## Recognizing the sentences"
   ]
  },
  {
   "cell_type": "code",
   "execution_count": null,
   "metadata": {
    "pycharm": {
     "name": "#%%\n"
    }
   },
   "outputs": [],
   "source": [
    "from ply.yacc import yacc\n",
    "\n",
    "\n",
    "def p_statement_list(p):\n",
    "    ''' statements : statements statement\n",
    "                   | statement\n",
    "    '''\n",
    "\n",
    "def p_assign_statement (p):\n",
    "    ''' statement : ID EQ expr\n",
    "    '''\n",
    "\n",
    "def p_print_statement (p):\n",
    "    ''' statement : PRINT LPAREN expr RPAREN\n",
    "    '''\n",
    "\n",
    "def p_binop_expr (p):\n",
    "    ''' expr : expr PLUS expr\n",
    "             | expr TIMES expr\n",
    "    '''\n",
    "\n",
    "def p_num_expr (p):\n",
    "    ''' expr : NUM\n",
    "    '''\n",
    "\n",
    "def p_name_expr (p):\n",
    "    ''' expr : ID\n",
    "    '''\n",
    "\n",
    "def p_compound_expr (p):\n",
    "    ''' expr : LPAREN expr RPAREN\n",
    "    '''\n",
    "\n",
    "parser = yacc(write_tables=False)"
   ]
  },
  {
   "cell_type": "markdown",
   "metadata": {},
   "source": [
    "Let's ignore the warnings for now and try to parser for a valid sentence:"
   ]
  },
  {
   "cell_type": "code",
   "execution_count": null,
   "metadata": {
    "pycharm": {
     "name": "#%%\n"
    }
   },
   "outputs": [],
   "source": [
    "parser.parse('a = 3 * 4 + 5')"
   ]
  },
  {
   "cell_type": "markdown",
   "metadata": {},
   "source": [
    " Nothing happened! Let's see what happens to an invalid sentence:"
   ]
  },
  {
   "cell_type": "code",
   "execution_count": null,
   "metadata": {
    "pycharm": {
     "name": "#%%\n"
    }
   },
   "outputs": [],
   "source": [
    "parser.parse('a == 3')"
   ]
  },
  {
   "cell_type": "markdown",
   "metadata": {},
   "source": [
    "Now let's add information to build a parse tree:"
   ]
  },
  {
   "cell_type": "code",
   "execution_count": null,
   "metadata": {
    "pycharm": {
     "name": "#%%\n"
    }
   },
   "outputs": [],
   "source": [
    "from ply.yacc import yacc\n",
    "\n",
    "\n",
    "def p_statement_list(p):\n",
    "    ''' statements : statements statement\n",
    "                   | statement\n",
    "    '''\n",
    "    if len(p) == 2:\n",
    "        p[0] = p[1]\n",
    "    else:\n",
    "        p[0] = p[1] + (p[2])\n",
    "\n",
    "def p_assign_statement (p):\n",
    "    ''' statement : ID EQ expr\n",
    "    '''\n",
    "    p[0] = ('assign', p[1], p[3])\n",
    "\n",
    "def p_print_statement (p):\n",
    "    ''' statement : PRINT LPAREN expr RPAREN\n",
    "    '''\n",
    "    p[0] = ('print', p[3])\n",
    "\n",
    "def p_binop_expr (p):\n",
    "    ''' expr : expr PLUS expr\n",
    "             | expr TIMES expr\n",
    "    '''\n",
    "    p[0] = (p[2], p[1], p[3])\n",
    "\n",
    "def p_num_expr (p):\n",
    "    ''' expr : NUM\n",
    "    '''\n",
    "    p[0] = ('num', p[1])\n",
    "\n",
    "def p_name_expr (p):\n",
    "    ''' expr : ID\n",
    "    '''\n",
    "    p[0] = ('id', p[1])\n",
    "\n",
    "def p_compound_expr (p):\n",
    "    ''' expr : LPAREN expr RPAREN\n",
    "    '''\n",
    "    p[0] = p[2]\n",
    "\n",
    "parser = yacc(write_tables=False)"
   ]
  },
  {
   "cell_type": "code",
   "execution_count": null,
   "metadata": {
    "pycharm": {
     "name": "#%%\n"
    }
   },
   "outputs": [],
   "source": [
    "parser.parse(\"a = 3 * 4 + 5\")"
   ]
  },
  {
   "cell_type": "markdown",
   "metadata": {},
   "source": [
    "Built the parser tree we noticed that it is not respecting the precedence of the operators.\n",
    "We need to indicate this in the program. Let's also take advantage and define an error\n",
    "routine for the parser:"
   ]
  },
  {
   "cell_type": "code",
   "execution_count": null,
   "metadata": {
    "pycharm": {
     "name": "#%%\n"
    }
   },
   "outputs": [],
   "source": [
    "from ply.yacc import yacc\n",
    "\n",
    "\n",
    "def p_statement_list(p):\n",
    "    ''' statements : statements statement\n",
    "                   | statement\n",
    "    '''\n",
    "    if len(p) == 2:\n",
    "        p[0] = p[1]\n",
    "    else:\n",
    "        p[0] = p[1] + (p[2])\n",
    "\n",
    "def p_assign_statement (p):\n",
    "    ''' statement : ID EQ expr\n",
    "    '''\n",
    "    p[0] = ('assign', p[1], p[3])\n",
    "\n",
    "def p_print_statement (p):\n",
    "    ''' statement : PRINT LPAREN expr RPAREN\n",
    "    '''\n",
    "    p[0] = ('print', p[3])\n",
    "\n",
    "def p_binop_expr (p):\n",
    "    ''' expr : expr PLUS expr\n",
    "             | expr TIMES expr\n",
    "    '''\n",
    "    p[0] = (p[2], p[1], p[3])\n",
    "\n",
    "def p_num_expr (p):\n",
    "    ''' expr : NUM\n",
    "    '''\n",
    "    p[0] = ('num', p[1])\n",
    "\n",
    "def p_name_expr (p):\n",
    "    ''' expr : ID\n",
    "    '''\n",
    "    p[0] = ('id', p[1])\n",
    "\n",
    "def p_compound_expr (p):\n",
    "    ''' expr : LPAREN expr RPAREN\n",
    "    '''\n",
    "    p[0] = p[2]\n",
    "\n",
    "def p_error (p):\n",
    "    if p:\n",
    "        print(\"Error near the symbol %s\" % p.value)\n",
    "    else:\n",
    "        print(\"Error at the end of input\")\n",
    "\n",
    "precedence = (\n",
    "    ('left', 'PLUS'),\n",
    "    ('left', 'TIMES')\n",
    "    )\n",
    "\n",
    "parser = yacc(write_tables=False)"
   ]
  },
  {
   "cell_type": "markdown",
   "metadata": {},
   "source": [
    "With the definition of operator precedence, shift-reduce conflicts were resolved.\n",
    "Let's run the parser for our example sentences again:"
   ]
  },
  {
   "cell_type": "code",
   "execution_count": null,
   "metadata": {
    "pycharm": {
     "name": "#%%\n"
    }
   },
   "outputs": [],
   "source": [
    "parser.parse('a = 3 * 4 + 5')"
   ]
  },
  {
   "cell_type": "code",
   "execution_count": null,
   "metadata": {
    "pycharm": {
     "name": "#%%\n"
    }
   },
   "outputs": [],
   "source": [
    "parser.parse('a = 3 * ')"
   ]
  },
  {
   "cell_type": "code",
   "execution_count": null,
   "metadata": {
    "pycharm": {
     "name": "#%%\n"
    }
   },
   "outputs": [],
   "source": [
    "parser.parse('a == 3')"
   ]
  },
  {
   "cell_type": "code",
   "execution_count": null,
   "metadata": {
    "pycharm": {
     "name": "#%%\n"
    }
   },
   "outputs": [],
   "source": [
    "parser.parse('print(a)')"
   ]
  },
  {
   "cell_type": "code",
   "execution_count": null,
   "metadata": {
    "pycharm": {
     "name": "#%%\n"
    }
   },
   "outputs": [],
   "source": [
    "code = '''\n",
    "a = 3\n",
    "b = 4 * a\n",
    "print(a+b)\n",
    "'''"
   ]
  },
  {
   "cell_type": "code",
   "execution_count": null,
   "metadata": {
    "pycharm": {
     "name": "#%%\n"
    }
   },
   "outputs": [],
   "source": [
    "parser.parse(code.__str__().replace('\\n', ' '))"
   ]
  },
  {
   "cell_type": "markdown",
   "metadata": {},
   "source": [
    "## Writing a Parser for the uC language"
   ]
  },
  {
   "cell_type": "markdown",
   "metadata": {},
   "source": [
    "In this step, you must write the basic shell of a parser for the uC language.\n",
    "A formal BNF of the language is [here](./doc/uC_Grammar.ipynb). Your task is to write parsing\n",
    "rules using PLY\n",
    "(see [PLY-Yacc](http://www.dabeaz.com/ply/ply.html#ply_nn22) documentation).\n",
    "\n",
    "Your task is translate the BNF into a collection of parser functions. For example, a rule\n",
    "such as :\n",
    "```\n",
    "  <program> ::= {<global_declaration>}+\n",
    "```  \n",
    "Gets turned into a Python function of the form:"
   ]
  },
  {
   "cell_type": "code",
   "execution_count": null,
   "metadata": {
    "pycharm": {
     "name": "#%%\n"
    }
   },
   "outputs": [],
   "source": [
    "class Parser:\n",
    "    ...\n",
    "    def p_program(self, p):\n",
    "        \"\"\" program  : global_declaration_list\n",
    "        \"\"\"\n",
    "        p[0] = ('Program', p[1])\n",
    "\n",
    "    def p_global_declaration_list(self, p):\n",
    "        \"\"\" global_declaration_list : global_declaration\n",
    "                                    | global_declaration_list global_declaration\n",
    "        \"\"\"\n",
    "        p[0] = [p[1]] if len(p) == 2 else p[1] + [p[2]]"
   ]
  },
  {
   "cell_type": "markdown",
   "metadata": {},
   "source": [
    "In the body of each rule, create an appropriate name and assign it to p[0] as shown\n",
    "above.\n",
    "\n",
    "For the purposes of lineno number tracking, you should assign a line number to each\n",
    "production as appropriate. See http://www.dabeaz.com/ply/ply.html#ply_nn33. To do this,\n",
    "I suggest pulling the line number off of any nearby terminal symbol. For example:"
   ]
  },
  {
   "cell_type": "code",
   "execution_count": null,
   "metadata": {
    "pycharm": {
     "name": "#%%\n"
    }
   },
   "outputs": [],
   "source": [
    "    def p_identifier(self, p):\n",
    "        \"\"\" identifier : ID \"\"\"\n",
    "        p[0] = ('ID', p[1])\n",
    "        p.set_lineno(0, p.lineno(1))"
   ]
  },
  {
   "cell_type": "markdown",
   "metadata": {
    "pycharm": {
     "name": "#%% md\n"
    }
   },
   "source": [
    "Your goal, at the end of this second project, is to **syntactically** recognize programs\n",
    "expressed in the uC language. You can use as a basis the examples contained\n",
    "[here](./doc/uC_Grammar.ipynb). For this, the ideal is that you get your grammar to present\n",
    "**only one** shift-reduce conflict that is relative to the if-else sentence.\n",
    "\n",
    "Suggestion: You should start simple and incrementally work your way up to building the\n",
    "complete grammar."
   ]
  }
 ],
 "metadata": {
  "@webio": {
   "lastCommId": null,
   "lastKernelId": null
  },
  "kernelspec": {
   "display_name": "Python 3",
   "language": "python",
   "name": "python3"
  },
  "language_info": {
   "codemirror_mode": {
    "name": "ipython",
    "version": 3
   },
   "file_extension": ".py",
   "mimetype": "text/x-python",
   "name": "python",
   "nbconvert_exporter": "python",
   "pygments_lexer": "ipython3",
   "version": "3.8.5"
  },
  "latex_envs": {
   "LaTeX_envs_menu_present": true,
   "autoclose": false,
   "autocomplete": true,
   "bibliofile": "biblio.bib",
   "cite_by": "apalike",
   "current_citInitial": 1,
   "eqLabelWithNumbers": true,
   "eqNumInitial": 1,
   "hotkeys": {
    "equation": "Ctrl-E",
    "itemize": "Ctrl-I"
   },
   "labels_anchors": false,
   "latex_user_defs": false,
   "report_style_numbering": false,
   "user_envs_cfg": false
  },
  "toc": {
   "base_numbering": 1,
   "nav_menu": {},
   "number_sections": true,
   "sideBar": true,
   "skip_h1_title": false,
   "title_cell": "Table of Contents",
   "title_sidebar": "Contents",
   "toc_cell": false,
   "toc_position": {},
   "toc_section_display": true,
   "toc_window_display": false
  }
 },
 "nbformat": 4,
 "nbformat_minor": 4
}
