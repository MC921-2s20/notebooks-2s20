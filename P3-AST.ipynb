{
 "cells": [
  {
   "cell_type": "markdown",
   "metadata": {},
   "source": [
    "# Third Project: Building the Abstract Syntax Tree\n",
    "\n",
    "Abstract syntax trees are data structures that better represent the structure of the\n",
    "program code than the parse tree. An AST can be edited and enhanced with information\n",
    "such as properties and annotations for each element it contains. Your goal in this\n",
    "third project is to transform the parse tree into an AST."
   ]
  },
  {
   "cell_type": "markdown",
   "metadata": {},
   "source": [
    "## The main uc_compiler.py module\n",
    "\n",
    "First, in order to standardize the way the compiler we are building is called, I am suggesting that you use the main compiler module\n",
    "attached [here](./src/uc_compiler.py).\n",
    "\n",
    "note: you can create stubs for the classes and methods in the uC module as a temporary\n",
    "substitute for the code yet to be developed, or just comment on the parts of the code\n",
    "corresponding to the future compilation phases."
   ]
  },
  {
   "cell_type": "markdown",
   "metadata": {},
   "source": [
    "## Abstract Syntax Tree objects\n",
    "This section defines classes for different kinds of nodes of an Abstract Syntax Tree.\n",
    "During parsing, you will create these nodes and connect them together. In general,\n",
    "you will have a different AST node for each kind of grammar rule."
   ]
  },
  {
   "cell_type": "code",
   "execution_count": null,
   "metadata": {
    "pycharm": {
     "name": "#%%\n"
    }
   },
   "outputs": [],
   "source": [
    "class Node(object):\n",
    "    \"\"\"\n",
    "    Base class example for the AST nodes.\n",
    "\n",
    "    By default, instances of classes have a dictionary for attribute storage.\n",
    "    This wastes space for objects having very few instance variables.\n",
    "    The space consumption can become acute when creating large numbers of instances.\n",
    "\n",
    "    The default can be overridden by defining __slots__ in a class definition.\n",
    "    The __slots__ declaration takes a sequence of instance variables and reserves\n",
    "    just enough space in each instance to hold a value for each variable.\n",
    "    Space is saved because __dict__ is not created for each instance.\n",
    "    \"\"\"\n",
    "    __slots__ = ()\n",
    "\n",
    "    def children(self):\n",
    "        \"\"\" A sequence of all children that are Nodes. \"\"\"\n",
    "        pass"
   ]
  },
  {
   "cell_type": "markdown",
   "metadata": {},
   "source": [
    "For each of specific AST nodes, you need to add the appropriate ```__slots__```\n",
    "specification that indicates what fields are to be stored:"
   ]
  },
  {
   "cell_type": "code",
   "execution_count": null,
   "metadata": {
    "pycharm": {
     "name": "#%%\n"
    }
   },
   "outputs": [],
   "source": [
    "class Program(Node):\n",
    "    __slots__ = ('gdecls', 'coord')\n",
    "\n",
    "    def __init__(self, gdecls, coord=None):\n",
    "        self.gdecls = gdecls\n",
    "        self.coord = coord\n",
    "\n",
    "    def children(self):\n",
    "        nodelist = []\n",
    "        for i, child in enumerate(self.gdecls or []):\n",
    "            nodelist.append((\"gdecls[%d]\" % i, child))\n",
    "        return tuple(nodelist)\n",
    "\n",
    "    attr_names = ()"
   ]
  },
  {
   "cell_type": "markdown",
   "metadata": {},
   "source": [
    "Just as another example, for a binary operator, you might store the operator, the left\n",
    "expression, and the right expression like this:"
   ]
  },
  {
   "cell_type": "code",
   "execution_count": null,
   "metadata": {
    "pycharm": {
     "name": "#%%\n"
    }
   },
   "outputs": [],
   "source": [
    "class BinaryOp(Node):\n",
    "    __slots__ = (\"op\", \"lvalue\", \"rvalue\", \"coord\")\n",
    "\n",
    "    def __init__(self, op, left, right, coord=None):\n",
    "        self.op = op\n",
    "        self.lvalue = left\n",
    "        self.rvalue = right\n",
    "        self.coord = coord\n",
    "\n",
    "    def children(self):\n",
    "        nodelist = []\n",
    "        if self.lvalue is not None:\n",
    "            nodelist.append((\"lvalue\", self.lvalue))\n",
    "        if self.rvalue is not None:\n",
    "            nodelist.append((\"rvalue\", self.rvalue))\n",
    "        return tuple(nodelist)\n",
    "\n",
    "    attr_names = (\"op\",)"
   ]
  },
  {
   "cell_type": "markdown",
   "metadata": {},
   "source": [
    "For Constant objects, you might store the type and value, like this:"
   ]
  },
  {
   "cell_type": "code",
   "execution_count": null,
   "metadata": {
    "pycharm": {
     "name": "#%%\n"
    }
   },
   "outputs": [],
   "source": [
    "class Constant(Node):\n",
    "    __slots__ = (\"type\", \"value\", \"coord\")\n",
    "\n",
    "    def __init__(self, type, value, coord=None):\n",
    "        self.type = type\n",
    "        self.value = value\n",
    "        self.coord = coord\n",
    "\n",
    "    def children(self):\n",
    "        return ()\n",
    "\n",
    "    attr_names = (\"type\", \"value\")"
   ]
  },
  {
   "cell_type": "markdown",
   "metadata": {},
   "source": [
    "Suggestion: You should start simple and incrementally work your way up to building the\n",
    "complete grammar."
   ]
  },
  {
   "cell_type": "markdown",
   "metadata": {},
   "source": [
    "## AST node classes\n",
    "\n",
    "The list below defines the AST node classes and expected attribute names that must be\n",
    "used in uCParser:\n",
    "\n",
    "ArrayDecl ( ), ArrayRef ( ), Assert ( ), Assignment (op), BinaryOp (op), Break ( ),\n",
    "Cast ( ), Compound ( ), Constant (type, value), Decl (name), DeclList ( ),\n",
    "EmptyStatement ( ), ExprList ( ), For ( ), FuncCall ( ), FuncDecl ( ), FuncDef ( ),\n",
    "GlobalDecl ( ), ID (name), If ( ), InitList ( ), ParamList ( ), Print ( ), Program ( ),\n",
    "PtrDecl ( ), Read ( ), Return ( ), Type (names), VarDecl (), UnaryOp (op), While ( )."
   ]
  },
  {
   "cell_type": "markdown",
   "metadata": {},
   "source": [
    "### Showing the AST"
   ]
  },
  {
   "cell_type": "markdown",
   "metadata": {},
   "source": [
    "Consider the previous uC program example:"
   ]
  },
  {
   "cell_type": "code",
   "execution_count": null,
   "metadata": {
    "pycharm": {
     "name": "#%%\n"
    }
   },
   "outputs": [],
   "source": [
    "/* comment */\n",
    "int j = 3;\n",
    "int main () {\n",
    "  int i = j;\n",
    "  int k = 3;\n",
    "  int p = 2 * j;\n",
    "  assert p == 2 * i;\n",
    "}"
   ]
  },
  {
   "cell_type": "markdown",
   "metadata": {},
   "source": [
    "The dump of the AST for the example above looks like this:"
   ]
  },
  {
   "cell_type": "code",
   "execution_count": null,
   "metadata": {
    "pycharm": {
     "name": "#%%\n"
    }
   },
   "outputs": [],
   "source": [
    "Program:\n",
    "    GlobalDecl:\n",
    "        Decl: ID(name=j)\n",
    "            VarDecl:\n",
    "                Type: int @ 2:1\n",
    "            Constant: int, 3 @ 2:9\n",
    "    FuncDef:\n",
    "        Type: int @ 3:1\n",
    "        Decl: ID(name=main)\n",
    "            FuncDecl:\n",
    "                VarDecl:\n",
    "                    Type: int @ 3:1\n",
    "        Compound: @ 3:13\n",
    "            Decl: ID(name=i)\n",
    "                VarDecl:\n",
    "                    Type: int @ 4:3\n",
    "                ID: j @ 4:11\n",
    "            Decl: ID(name=k)\n",
    "                VarDecl:\n",
    "                    Type: int @ 5:3\n",
    "                Constant: int, 3 @ 5:11\n",
    "            Decl: ID(name=p)\n",
    "                VarDecl:\n",
    "                    Type: int @ 6:3\n",
    "                BinaryOp: * @ 6:11\n",
    "                    Constant: int, 2 @ 6:11\n",
    "                    ID: j @ 6:15\n",
    "            Assert: @ 7:3\n",
    "                BinaryOp: == @ 7:10\n",
    "                    ID: p @ 7:10\n",
    "                    BinaryOp: * @ 7:15\n",
    "                        Constant: int, 2 @ 7:15\n",
    "                        ID: i @ 7:19"
   ]
  },
  {
   "cell_type": "markdown",
   "metadata": {},
   "source": [
    "The methods to generate a textual representation of the AST nodes and print all its\n",
    "attributes is showing below:"
   ]
  },
  {
   "cell_type": "code",
   "execution_count": null,
   "metadata": {},
   "outputs": [],
   "source": [
    "def represent_node(obj, indent):\n",
    "    def _repr(obj, indent, printed_set):\n",
    "        \"\"\"\n",
    "        Get the representation of an object, with dedicated pprint-like format for lists.\n",
    "        \"\"\"\n",
    "        if isinstance(obj, list):\n",
    "            indent += 1\n",
    "            sep = \",\\n\" + (\" \" * indent)\n",
    "            final_sep = \",\\n\" + (\" \" * (indent - 1))\n",
    "            return (\n",
    "                \"[\"\n",
    "                + (sep.join((_repr(e, indent, printed_set) for e in obj)))\n",
    "                + final_sep\n",
    "                + \"]\"\n",
    "            )\n",
    "        elif isinstance(obj, Node):\n",
    "            if obj in printed_set:\n",
    "                return \"\"\n",
    "            else:\n",
    "                printed_set.add(obj)\n",
    "            result = obj.__class__.__name__ + \"(\"\n",
    "            indent += len(obj.__class__.__name__) + 1\n",
    "            attrs = []\n",
    "            for name in obj.__slots__[:-1]:\n",
    "                if name == \"bind\":\n",
    "                    continue\n",
    "                value = getattr(obj, name)\n",
    "                value_str = _repr(value, indent + len(name) + 1, printed_set)\n",
    "                attrs.append(name + \"=\" + value_str)\n",
    "            sep = \",\\n\" + (\" \" * indent)\n",
    "            final_sep = \",\\n\" + (\" \" * (indent - 1))\n",
    "            result += sep.join(attrs)\n",
    "            result += \")\"\n",
    "            return result\n",
    "        elif isinstance(obj, str):\n",
    "            return obj\n",
    "        else:\n",
    "            return \"\"\n",
    "\n",
    "    # avoid infinite recursion with printed_set\n",
    "    printed_set = set()\n",
    "    return _repr(obj, indent, printed_set)\n",
    "\n",
    "\n",
    "class Node:\n",
    "    \"\"\"Abstract base class for AST nodes.\"\"\"\n",
    "\n",
    "    __slots__ = \"coord\"\n",
    "    attr_names = ()\n",
    "\n",
    "    def __init__(self, coord=None):\n",
    "        self.coord = coord\n",
    "\n",
    "    def __repr__(self):\n",
    "        \"\"\"Generates a python representation of the current node\"\"\"\n",
    "        return represent_node(self, 0)\n",
    "\n",
    "    def children(self):\n",
    "        \"\"\"A sequence of all children that are Nodes\"\"\"\n",
    "        pass\n",
    "\n",
    "    def show(\n",
    "        self,\n",
    "        buf=sys.stdout,\n",
    "        offset=0,\n",
    "        attrnames=False,\n",
    "        nodenames=False,\n",
    "        showcoord=False,\n",
    "        _my_node_name=None,\n",
    "    ):\n",
    "        \"\"\"Pretty print the Node and all its attributes and children (recursively) to a buffer.\n",
    "        buf:\n",
    "            Open IO buffer into which the Node is printed.\n",
    "        offset:\n",
    "            Initial offset (amount of leading spaces)\n",
    "        attrnames:\n",
    "            True if you want to see the attribute names in name=value pairs. False to only see the values.\n",
    "        nodenames:\n",
    "            True if you want to see the actual node names within their parents.\n",
    "        showcoord:\n",
    "            Do you want the coordinates of each Node to be displayed.\n",
    "        \"\"\"\n",
    "        lead = \" \" * offset\n",
    "        if nodenames and _my_node_name is not None:\n",
    "            buf.write(lead + self.__class__.__name__ + \" <\" + _my_node_name + \">: \")\n",
    "            inner_offset = len(self.__class__.__name__ + \" <\" + _my_node_name + \">: \")\n",
    "        else:\n",
    "            buf.write(lead + self.__class__.__name__ + \":\")\n",
    "            inner_offset = len(self.__class__.__name__ + \":\")\n",
    "\n",
    "        if self.attr_names:\n",
    "            if attrnames:\n",
    "                nvlist = [\n",
    "                    (n, represent_node(getattr(self, n), offset+inner_offset+1+len(n)+1))\n",
    "                    for n in self.attr_names\n",
    "                    if getattr(self, n) is not None\n",
    "                ]\n",
    "                attrstr = \", \".join(\"%s=%s\" % nv for nv in nvlist)\n",
    "            else:\n",
    "                vlist = [getattr(self, n) for n in self.attr_names]\n",
    "                attrstr = \", \".join(\n",
    "                    represent_node(v, offset + inner_offset + 1) for v in vlist\n",
    "                )\n",
    "            buf.write(\" \" + attrstr)\n",
    "\n",
    "        if showcoord:\n",
    "            if self.coord and self.coord.line != 0:\n",
    "                buf.write(\" %s\" % self.coord)\n",
    "        buf.write(\"\\n\")\n",
    "\n",
    "        for (child_name, child) in self.children():\n",
    "            child.show(buf, offset + 4, attrnames, nodenames, showcoord, child_name)"
   ]
  },
  {
   "cell_type": "markdown",
   "metadata": {},
   "source": [
    "### Dealing with line and column information in AST"
   ]
  },
  {
   "cell_type": "code",
   "execution_count": null,
   "metadata": {
    "pycharm": {
     "name": "#%%\n"
    }
   },
   "outputs": [],
   "source": [
    "class Coord:\n",
    "    \"\"\"Coordinates of a syntactic element. Consists of:\n",
    "    - Line number\n",
    "    - (optional) column number, for the Lexer\n",
    "    \"\"\"\n",
    "\n",
    "    __slots__ = (\"line\", \"column\")\n",
    "\n",
    "    def __init__(self, line, column=None):\n",
    "        self.line = line\n",
    "        self.column = column\n",
    "\n",
    "    def __str__(self):\n",
    "        if self.line and self.column is not None:\n",
    "            coord_str = \"@ %s:%s\" % (self.line, self.column)\n",
    "        elif self.line:\n",
    "            coord_str = \"@ %s\" % (self.line)\n",
    "        else:\n",
    "            coord_str = \"\"\n",
    "        return coord_str"
   ]
  },
  {
   "cell_type": "markdown",
   "metadata": {},
   "source": [
    "The Coord class above should be used to store (and show in the AST) the lines and\n",
    "columns of the productions in the source code. To capture the coordinates for a\n",
    "production ```p``` of the parser indexed with ```token_idx``` use the following code\n",
    "in the UCParser class (the coordinate includes the ```lineno``` and the ```column```.\n",
    "Both follow the semantics of the lex, starting at 1):"
   ]
  },
  {
   "cell_type": "code",
   "execution_count": null,
   "metadata": {
    "pycharm": {
     "name": "#%%\n"
    }
   },
   "outputs": [],
   "source": [
    "    def _token_coord(self, p, token_idx):\n",
    "        last_cr = p.lexer.lexer.lexdata.rfind('\\n', 0, p.lexpos(token_idx))\n",
    "        if last_cr < 0:\n",
    "            last_cr = -1\n",
    "        column = (p.lexpos(token_idx) - (last_cr))\n",
    "        return Coord(p.lineno(token_idx), column)"
   ]
  },
  {
   "cell_type": "markdown",
   "metadata": {},
   "source": [
    "## Additional implementation aspects\n",
    "\n",
    "### Building Declarations\n",
    "\n",
    "At uC, statements can come several in a line. For example:\n",
    "```\n",
    "  int x, y, z = 5;\n",
    "```\n",
    "However, for AST, we must divide them to separate the Decl nodes.\n",
    "The code snippet below splits the declarations and always returns a list of Decl nodes,\n",
    "even if it is a single element."
   ]
  },
  {
   "cell_type": "code",
   "execution_count": null,
   "metadata": {
    "pycharm": {
     "name": "#%%\n"
    }
   },
   "outputs": [],
   "source": [
    "    def _build_declarations(self, spec, decls):\n",
    "        \"\"\" Builds a list of declarations all sharing the given specifiers.\n",
    "        \"\"\"\n",
    "        declarations = []\n",
    "\n",
    "        for decl in decls:\n",
    "            assert decl['decl'] is not None\n",
    "            declaration = Decl(\n",
    "                    name=None,\n",
    "                    type=decl['decl'],\n",
    "                    init=decl.get('init'),\n",
    "                    coord=decl['decl'].coord)\n",
    "\n",
    "            fixed_decl = self._fix_decl_name_type(declaration, spec)\n",
    "            declarations.append(fixed_decl)\n",
    "\n",
    "        return declarations"
   ]
  },
  {
   "cell_type": "markdown",
   "metadata": {},
   "source": [
    "Due to the order in which declarators are constructed, they have to be fixed in order to\n",
    "look like a normal AST.\n",
    "\n",
    "When a declaration arrives from syntax construction, it has these problems:\n",
    " * The innermost VarDecl has no type (because the basic type is only known at the\n",
    "   uppermost declaration level)\n",
    " * The declaration has no variable name since that is saved in the innermost VarDecl\n",
    "\n",
    "The method below fixes these problems:"
   ]
  },
  {
   "cell_type": "code",
   "execution_count": null,
   "metadata": {
    "pycharm": {
     "name": "#%%\n"
    }
   },
   "outputs": [],
   "source": [
    "    def _fix_decl_name_type(self, decl, typename):\n",
    "        \"\"\" Fixes a declaration. Modifies decl.\n",
    "        \"\"\"\n",
    "        # Reach the underlying basic type\n",
    "        type = decl\n",
    "        while not isinstance(type, VarDecl):\n",
    "            type = type.type\n",
    "\n",
    "        decl.name = type.declname\n",
    "        if not typename:\n",
    "            # Functions default to returning int\n",
    "            if not isinstance(decl.type, FuncDecl):\n",
    "                self._parse_error(\"Missing type in declaration\", decl.coord)\n",
    "            type.type = Type('int', coord=decl.coord)\n",
    "        else:\n",
    "            type.type = Type(typename.name, coord=typename.coord)\n",
    "            \n",
    "        return decl"
   ]
  },
  {
   "cell_type": "markdown",
   "metadata": {},
   "source": [
    "The AST for the statement: ```int x, y, z = 5;```look like this:\n",
    "```\n",
    "Program:\n",
    "    GlobalDecl:\n",
    "        Decl: ID(name=x)\n",
    "            VarDecl:\n",
    "                Type: int @ 1:1\n",
    "        Decl: ID(name=y)\n",
    "            VarDecl:\n",
    "                Type: int @ 1:1\n",
    "        Decl: ID(name=z)\n",
    "            VarDecl:\n",
    "                Type: int @ 1:1\n",
    "            Constant: int, 5 @ 1:15\n",
    "```"
   ]
  },
  {
   "cell_type": "markdown",
   "metadata": {},
   "source": [
    "### Building Function Definitions\n",
    "\n",
    "Declarations always come as lists (because they can be several in one line); therefore,\n",
    "a design decision was to wrap the function definition into a list as well, to make the\n",
    "return value of global_declaration homogeneous. On the other hand, we do not embed\n",
    "a ```FuncDef``` object inside the ```GlobalDecl``` class. So we will have:"
   ]
  },
  {
   "cell_type": "code",
   "execution_count": null,
   "metadata": {
    "pycharm": {
     "name": "#%%\n"
    }
   },
   "outputs": [],
   "source": [
    "    def p_program(self, p):\n",
    "        \"\"\" program  : global_declaration_list\n",
    "        \"\"\"\n",
    "        p[0] = Program(p[1])\n",
    "\n",
    "    def p_global_declaration_list(self, p):\n",
    "        \"\"\" global_declaration_list : global_declaration\n",
    "                                    | global_declaration_list global_declaration\n",
    "        \"\"\"\n",
    "        p[0] = [p[1]] if len(p) == 2 else p[1] + [p[2]]\n",
    "\n",
    "    def p_global_declaration_1(self, p):\n",
    "        \"\"\" global_declaration    : declaration\n",
    "        \"\"\"\n",
    "        p[0] = uc_ast.GlobalDecl(p[1])\n",
    "\n",
    "    def p_global_declaration_2(self, p):\n",
    "        \"\"\" global_declaration    : function_definition\n",
    "        \"\"\"\n",
    "        p[0] = p[1]      # Note that FuncDef was not embedded into a GlobalDecl"
   ]
  },
  {
   "cell_type": "markdown",
   "metadata": {},
   "source": [
    "### Type Modifier\n",
    "\n",
    "A uC type consists of a basic type declaration, with a list of modifiers. For example:\n",
    "```  \n",
    "int c[5];\n",
    "```\n",
    "The basic declaration here is 'int c', and the array is the modifier.\n",
    "Basic declarations are represented by VarDecl and the modifiers are **FuncDecl**,\n",
    "**PtrDecl** and **ArrayDecl**.\n",
    "\n",
    "The standard states that whenever a new modifier is parsed, it should be added to the\n",
    "end of the list of modifiers. For example:\n",
    "\n",
    "**Array Declarators**\n",
    "\n",
    "In a declaration T D where D has the form D1 [constant_expression_opt] and the type of\n",
    "the identifier in the declaration T D1 is \"type-modifier T\", the type of the identifier\n",
    "of D is \"type-modifier array of T\"\n",
    "\n",
    "This is what the method below does. The declarator it receives can be a list of\n",
    "declarators ending with VarDecl. It tacks the modifier to the end of this list, just\n",
    "before the VarDecl."
   ]
  },
  {
   "cell_type": "code",
   "execution_count": null,
   "metadata": {
    "pycharm": {
     "name": "#%%\n"
    }
   },
   "outputs": [],
   "source": [
    "    def _type_modify_decl(self, decl, modifier):\n",
    "        \"\"\"Tacks a type modifier on a declarator, and returns\n",
    "           the modified declarator.\n",
    "           Note: the declarator and modifier may be modified\n",
    "        \"\"\"\n",
    "        modifier_head = modifier\n",
    "        modifier_tail = modifier\n",
    "\n",
    "        # The modifier may be a nested list. Reach its tail.\n",
    "        while modifier_tail.type:\n",
    "            modifier_tail = modifier_tail.type\n",
    "\n",
    "        # If the decl is a basic type, just tack the modifier onto it\n",
    "        if isinstance(decl, VarDecl):\n",
    "            modifier_tail.type = decl\n",
    "            return modifier\n",
    "        else:\n",
    "            # Otherwise, the decl is a list of modifiers. Reach\n",
    "            # its tail and splice the modifier onto the tail,\n",
    "            # pointing to the underlying basic type.\n",
    "            decl_tail = decl\n",
    "\n",
    "            while not isinstance(decl_tail.type, VarDecl):\n",
    "                decl_tail = decl_tail.type\n",
    "\n",
    "            modifier_tail.type = decl_tail.type\n",
    "            decl_tail.type = modifier_head\n",
    "            return decl"
   ]
  },
  {
   "cell_type": "markdown",
   "metadata": {},
   "source": [
    "The AST for the statement ```int c[5];``` look like this:\n",
    "\n",
    "```\n",
    "Program:\n",
    "    GlobalDecl:\n",
    "        Decl: ID(name=c)\n",
    "            ArrayDecl:\n",
    "                VarDecl:\n",
    "                    Type: int @ 1:1\n",
    "                Constant: int, 5 @ 1:7\n",
    "```"
   ]
  },
  {
   "cell_type": "markdown",
   "metadata": {},
   "source": [
    "### Single Expressions\n",
    "\n",
    "Expressions in the uC grammar can be seen as lists but can also appear as single\n",
    "expression. In the latter case, in order not to \"pollute\" AST, a design decision was to\n",
    "treat single expression differently. See the example for the print statement below:"
   ]
  },
  {
   "cell_type": "code",
   "execution_count": null,
   "metadata": {
    "pycharm": {
     "name": "#%%\n"
    }
   },
   "outputs": [],
   "source": [
    "char mc[] = \"Susy\";\n",
    "\n",
    "int main(){\n",
    "    print(\"Hello World!\");\n",
    "    print(\"Hello\", mc, \". Welcome to MC921\");\n",
    "    return;\n",
    "}\n",
    "\n",
    "Program:\n",
    "    GlobalDecl:\n",
    "        Decl: ID(name=mc)\n",
    "            ArrayDecl:\n",
    "                VarDecl:\n",
    "                    Type: char @ 1:1\n",
    "            Constant: string, Susy @ 1:13\n",
    "    FuncDef:\n",
    "        Type: int @ 3:1\n",
    "        Decl: ID(name=main)\n",
    "            FuncDecl:\n",
    "                VarDecl:\n",
    "                    Type: int @ 3:1\n",
    "        Compound: @ 3:11\n",
    "            Print: @ 4:5\n",
    "                Constant: string, Hello World! @ 4:11\n",
    "            Print: @ 5:5\n",
    "                ExprList: @ 5:11\n",
    "                    Constant: string, Hello @ 5:11\n",
    "                    ID: mc @ 5:20\n",
    "                    Constant: string, . Welcome to MC921 @ 5:24\n",
    "            Return: @ 6:5"
   ]
  },
  {
   "cell_type": "markdown",
   "metadata": {},
   "source": [
    "To do this, we just write the code in the expression production:"
   ]
  },
  {
   "cell_type": "code",
   "execution_count": null,
   "metadata": {
    "pycharm": {
     "name": "#%%\n"
    }
   },
   "outputs": [],
   "source": [
    "    def p_expression(self, p):\n",
    "        \"\"\" expression  : assignment_expression\n",
    "                        | expression COMMA assignment_expression\n",
    "        \"\"\"\n",
    "        if len(p) == 2:   # single expression\n",
    "            p[0] = p[1]\n",
    "        else:\n",
    "            if not isinstance(p[1], ExprList):\n",
    "                p[1] = ExprList([p[1]])\n",
    "\n",
    "            p[1].exprs.append(p[3])\n",
    "            p[0] = p[1]"
   ]
  }
 ],
 "metadata": {
  "@webio": {
   "lastCommId": null,
   "lastKernelId": null
  },
  "kernelspec": {
   "display_name": "Python 3",
   "language": "python",
   "name": "python3"
  },
  "language_info": {
   "codemirror_mode": {
    "name": "ipython",
    "version": 3
   },
   "file_extension": ".py",
   "mimetype": "text/x-python",
   "name": "python",
   "nbconvert_exporter": "python",
   "pygments_lexer": "ipython3",
   "version": "3.8.2"
  },
  "latex_envs": {
   "LaTeX_envs_menu_present": true,
   "autoclose": false,
   "autocomplete": true,
   "bibliofile": "biblio.bib",
   "cite_by": "apalike",
   "current_citInitial": 1,
   "eqLabelWithNumbers": true,
   "eqNumInitial": 1,
   "hotkeys": {
    "equation": "Ctrl-E",
    "itemize": "Ctrl-I"
   },
   "labels_anchors": false,
   "latex_user_defs": false,
   "report_style_numbering": false,
   "user_envs_cfg": false
  },
  "toc": {
   "base_numbering": 1,
   "nav_menu": {},
   "number_sections": true,
   "sideBar": true,
   "skip_h1_title": false,
   "title_cell": "Table of Contents",
   "title_sidebar": "Contents",
   "toc_cell": false,
   "toc_position": {},
   "toc_section_display": true,
   "toc_window_display": false
  }
 },
 "nbformat": 4,
 "nbformat_minor": 2
}
