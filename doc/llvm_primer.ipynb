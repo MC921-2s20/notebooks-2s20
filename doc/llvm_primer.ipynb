{
 "cells": [
  {
   "cell_type": "markdown",
   "metadata": {},
   "source": [
    "# LLVM Primer"
   ]
  },
  {
   "cell_type": "markdown",
   "metadata": {},
   "source": [
    "LLVM is the engine that drives our effort. It is a modern compiler framework and intermediate representation language together with toolchain for manipulating and optimizing this language."
   ]
  },
  {
   "cell_type": "markdown",
   "metadata": {},
   "source": [
    "## Basic Types\n",
    "\n",
    "LLVM types are your typical machine types plus pointers, structs, vectors and arrays. In this course we do not use structs and vectors. Some examples:"
   ]
  },
  {
   "cell_type": "markdown",
   "metadata": {},
   "source": [
    "```\n",
    "i1                     ; boolean bit\n",
    "i32                    ; integer\n",
    "float                  ; single precision\n",
    "[10 x float]           ; Array of 10 floats\n",
    "[10 x [20 x i32]]      ; Array of 10 arrays of 20 integers.\n",
    "[25 x float]*          ; Pointer to an array\n",
    "```"
   ]
  },
  {
   "cell_type": "markdown",
   "metadata": {},
   "source": [
    "## Instructions\n",
    "\n",
    "All instructions are assignment to a unique virtual register. In SSA (Single Static Assignment) a register is never assigned to more than once.\n",
    "```\n",
    "%result = add i32 10, 20\n",
    "```\n",
    "\n",
    "Symbols used in an LLVM module are either global or local. Global symbols begin with @ and local symbols begin with %.\n",
    "\n",
    "The numerical instructions are:"
   ]
  },
  {
   "cell_type": "markdown",
   "metadata": {},
   "source": [
    "```\n",
    "add : Integer addition\n",
    "fadd : Floating point addition\n",
    "sub : Integer subtraction\n",
    "fsub : Floating point subtraction\n",
    "mul : Integer multiplication\n",
    "fmul : Floating point multiplication\n",
    "udiv : Unsigned integer quotient\n",
    "sdiv : Signed integer quotient\n",
    "fdiv : Floating point quotient\n",
    "urem : Unsigned integer remainder\n",
    "srem : Signed integer remainder\n",
    "frem : Floating point integer remainder\n",
    "```"
   ]
  },
  {
   "cell_type": "markdown",
   "metadata": {},
   "source": [
    "## Memory\n",
    "\n",
    "LLVM uses the traditional load/store model:\n",
    "\n",
    "```\n",
    "load: Load a typed value from a given reference\n",
    "store: Store a typed value in a given reference\n",
    "alloca: Allocate a pointer to memory on the virtual stack\n",
    "```\n",
    "Examples:\n",
    "```\n",
    "%ptr = alloca i32\n",
    "store i32 3, i32* %ptr\n",
    "%val = load i32* %ptr\n",
    "```"
   ]
  },
  {
   "cell_type": "markdown",
   "metadata": {},
   "source": [
    "## Functions\n",
    "\n",
    "Functions are defined by as a collection of basic blocks, a return type and argument types. Function names must be unique in the module.\n",
    "```\n",
    "define i32 @add(i32 %a, i32 %b) {\n",
    "  %1 = add i32 %a, %b\n",
    "  ret i32 %1\n",
    "}\n",
    "```"
   ]
  },
  {
   "cell_type": "markdown",
   "metadata": {},
   "source": [
    "## Basic Blocks\n",
    "\n",
    "The function is split across basic blocks which hold sequences of instructions and a terminator instruction which either returns or jumps to another local basic block.\n",
    "```\n",
    "define i1 @foo() {\n",
    "entry:\n",
    "  br label %next\n",
    "next:\n",
    "  br label %return\n",
    "return:\n",
    "  ret i1 0\n",
    "}\n",
    "```"
   ]
  },
  {
   "cell_type": "markdown",
   "metadata": {},
   "source": [
    "## Return\n",
    "\n",
    "A function must have a terminator, one of such instructions is a ret which returns a value to the stack.\n",
    "```\n",
    "define i1 @foo() {\n",
    "  ret i1 0\n",
    "}\n",
    "```"
   ]
  },
  {
   "cell_type": "markdown",
   "metadata": {},
   "source": [
    "## Unconditional Branch\n",
    "\n",
    "An unconditional branch jumps unconditionally to a labeled basic block.\n",
    "```\n",
    "define i1 @foo() {\n",
    "start:\n",
    "  br label %next\n",
    "next:\n",
    "  br label %return\n",
    "return:\n",
    "  ret i1 0\n",
    "}\n",
    "```"
   ]
  },
  {
   "cell_type": "markdown",
   "metadata": {},
   "source": [
    "## Conditional Branch\n",
    "```\n",
    "define i32 @foo() {\n",
    "start:\n",
    "  br i1 true, label %left, label %right\n",
    "left:\n",
    "  ret i32 10\n",
    "right:\n",
    "  ret i32 20\n",
    "}\n",
    "```"
   ]
  },
  {
   "cell_type": "markdown",
   "metadata": {},
   "source": [
    "## Phi\n",
    "\n",
    "Phi nodes yield a value that depends on the operand corresponding to their predecessor basic block. These are used for implementing loops in SSA.\n",
    "```\n",
    "define i32 @foo() {\n",
    "start:\n",
    "  br i1 true, label %left, label %right\n",
    "left:\n",
    "  %plusOne = add i32 0, 1\n",
    "  br label %merge\n",
    "right:\n",
    "  br label %merge\n",
    "merge:\n",
    "  %join = phi i32 [ %plusOne, %left], [ -1, %right]\n",
    "  ret i32 %join\n",
    "}\n",
    "```"
   ]
  },
  {
   "cell_type": "markdown",
   "metadata": {},
   "source": [
    "## Loops\n",
    "\n",
    "Loops are written in terms of conditional branches and phi nodes.\n",
    "\n",
    "For example the translation of the following uC code:\n",
    "```\n",
    "int count(int n) {\n",
    "  int i = 0;\n",
    "  while(i < n) {\n",
    "    i++;\n",
    "  }\n",
    "  return i;\n",
    "}\n",
    "```\n",
    "Into LLVM:\n",
    "```\n",
    "define i32 @count(i32 %n) {\n",
    "entry:\n",
    "   br label %loop\n",
    "loop:\n",
    "   %i = phi i32 [ 1, %entry ], [ %nextvar, %loop ]\n",
    "   %nextvar = add i32 %i, 1\n",
    "   %cmptmp = icmp ult i32 %i, %n\n",
    "   %booltmp = zext i1 %cmptmp to i32\n",
    "   %loopcond = icmp ne i32 %booltmp, 0\n",
    "   br i1 %loopcond, label %loop, label %afterloop\n",
    "afterloop:\n",
    "   ret i32 %i\n",
    "}\n",
    "```"
   ]
  },
  {
   "cell_type": "markdown",
   "metadata": {},
   "source": [
    "## Toolchain\n",
    "\n",
    "The command line utilities for LLVM can be used to transform IR to and from various forms and run optimizations over it. Everything we can do from the C++ API or llvmpy can also be done from the command line.\n",
    "```\n",
    "$ llc example.ll -o example.s                 # compile\n",
    "$ lli example.ll                              # execute\n",
    "$ opt -S example.bc -o example.ll             # to assembly\n",
    "$ opt example.ll -o example.bc                # to bitcode\n",
    "$ opt -S -O3 example.ll -o example.opt.ll     # run optimizer\n",
    "$ opt -view-cfg module.ll                     # view control flow graph\n",
    "```\n",
    "And that's basically all you need to know about LLVM."
   ]
  }
 ],
 "metadata": {
  "@webio": {
   "lastCommId": null,
   "lastKernelId": null
  },
  "kernelspec": {
   "display_name": "Python 3",
   "language": "python",
   "name": "python3"
  },
  "language_info": {
   "codemirror_mode": {
    "name": "ipython",
    "version": 3
   },
   "file_extension": ".py",
   "mimetype": "text/x-python",
   "name": "python",
   "nbconvert_exporter": "python",
   "pygments_lexer": "ipython3",
   "version": "3.8.6"
  },
  "latex_envs": {
   "LaTeX_envs_menu_present": true,
   "autoclose": false,
   "autocomplete": true,
   "bibliofile": "biblio.bib",
   "cite_by": "apalike",
   "current_citInitial": 1,
   "eqLabelWithNumbers": true,
   "eqNumInitial": 1,
   "hotkeys": {
    "equation": "Ctrl-E",
    "itemize": "Ctrl-I"
   },
   "labels_anchors": false,
   "latex_user_defs": false,
   "report_style_numbering": false,
   "user_envs_cfg": false
  },
  "toc": {
   "base_numbering": 1,
   "nav_menu": {},
   "number_sections": true,
   "sideBar": true,
   "skip_h1_title": false,
   "title_cell": "Table of Contents",
   "title_sidebar": "Contents",
   "toc_cell": false,
   "toc_position": {},
   "toc_section_display": true,
   "toc_window_display": false
  }
 },
 "nbformat": 4,
 "nbformat_minor": 2
}
