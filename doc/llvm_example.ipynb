{
 "cells": [
  {
   "cell_type": "code",
   "execution_count": 1,
   "metadata": {},
   "outputs": [],
   "source": [
    "from llvmlite import ir"
   ]
  },
  {
   "cell_type": "markdown",
   "metadata": {},
   "source": [
    "Build a simple function with a for loop that sum the first N integer, where N is the argument."
   ]
  },
  {
   "cell_type": "code",
   "execution_count": 2,
   "metadata": {},
   "outputs": [],
   "source": [
    "m = ir.Module()"
   ]
  },
  {
   "cell_type": "code",
   "execution_count": 3,
   "metadata": {},
   "outputs": [
    {
     "name": "stdout",
     "output_type": "stream",
     "text": [
      "i32 (i32)\n"
     ]
    }
   ],
   "source": [
    "fnty = ir.FunctionType(ir.IntType(32), [ir.IntType(32)])\n",
    "print(fnty)"
   ]
  },
  {
   "cell_type": "code",
   "execution_count": 4,
   "metadata": {},
   "outputs": [
    {
     "name": "stdout",
     "output_type": "stream",
     "text": [
      "declare i32 @\"count_number\"(i32 %\"N\") \n",
      "\n"
     ]
    }
   ],
   "source": [
    "fn = ir.Function(m, fnty, \"count_number\")\n",
    "fn.args[0].name= 'N'\n",
    "print(fn)"
   ]
  },
  {
   "cell_type": "code",
   "execution_count": 5,
   "metadata": {},
   "outputs": [],
   "source": [
    "builder = ir.IRBuilder(fn.append_basic_block('entry'))"
   ]
  },
  {
   "cell_type": "markdown",
   "metadata": {},
   "source": [
    "Initialize variable `ct` and `out` with `0`"
   ]
  },
  {
   "cell_type": "code",
   "execution_count": 6,
   "metadata": {},
   "outputs": [
    {
     "name": "stdout",
     "output_type": "stream",
     "text": [
      "define i32 @\"count_number\"(i32 %\"N\") \n",
      "{\n",
      "entry:\n",
      "  %\"out\" = alloca i32\n",
      "  %\"ct\" = alloca i32\n",
      "  store i32 0, i32* %\"out\"\n",
      "  store i32 0, i32* %\"ct\"\n",
      "}\n",
      "\n"
     ]
    }
   ],
   "source": [
    "out = builder.alloca(ir.IntType(32), name='out')\n",
    "ct = builder.alloca(ir.IntType(32), name='ct')\n",
    "builder.store(out.type.pointee(0), out)\n",
    "builder.store(ct.type.pointee(0), ct)\n",
    "print(fn)"
   ]
  },
  {
   "cell_type": "markdown",
   "metadata": {},
   "source": [
    "Populate loop header"
   ]
  },
  {
   "cell_type": "code",
   "execution_count": 7,
   "metadata": {},
   "outputs": [
    {
     "name": "stdout",
     "output_type": "stream",
     "text": [
      "define i32 @\"count_number\"(i32 %\"N\") \n",
      "{\n",
      "entry:\n",
      "  %\"out\" = alloca i32\n",
      "  %\"ct\" = alloca i32\n",
      "  store i32 0, i32* %\"out\"\n",
      "  store i32 0, i32* %\"ct\"\n",
      "  br label %\"loop.header\"\n",
      "loop.header:\n",
      "  %\".6\" = load i32, i32* %\"ct\"\n",
      "  %\".7\" = icmp slt i32 %\".6\", %\"N\"\n",
      "  br i1 %\".7\", label %\"loop.body\", label %\"loop.end\"\n",
      "loop.body:\n",
      "loop.end:\n",
      "}\n",
      "\n"
     ]
    }
   ],
   "source": [
    "loophead = fn.append_basic_block('loop.header')\n",
    "loopbody = fn.append_basic_block('loop.body')\n",
    "loopend = fn.append_basic_block('loop.end')\n",
    "\n",
    "builder.branch(loophead)\n",
    "builder.position_at_end(loophead)\n",
    "\n",
    "# loop if ct < arg0\n",
    "arg0 = fn.args[0]\n",
    "pred = builder.icmp_signed('<', builder.load(ct), arg0)\n",
    "builder.cbranch(pred, loopbody, loopend)\n",
    "\n",
    "print(fn)"
   ]
  },
  {
   "cell_type": "markdown",
   "metadata": {},
   "source": [
    "Populate loop body"
   ]
  },
  {
   "cell_type": "code",
   "execution_count": 8,
   "metadata": {},
   "outputs": [
    {
     "name": "stdout",
     "output_type": "stream",
     "text": [
      "define i32 @\"count_number\"(i32 %\"N\") \n",
      "{\n",
      "entry:\n",
      "  %\"out\" = alloca i32\n",
      "  %\"ct\" = alloca i32\n",
      "  store i32 0, i32* %\"out\"\n",
      "  store i32 0, i32* %\"ct\"\n",
      "  br label %\"loop.header\"\n",
      "loop.header:\n",
      "  %\".6\" = load i32, i32* %\"ct\"\n",
      "  %\".7\" = icmp slt i32 %\".6\", %\"N\"\n",
      "  br i1 %\".7\", label %\"loop.body\", label %\"loop.end\"\n",
      "loop.body:\n",
      "  %\".9\" = load i32, i32* %\"out\"\n",
      "  %\".10\" = load i32, i32* %\"ct\"\n",
      "  %\".11\" = add i32 %\".9\", %\".10\"\n",
      "  store i32 %\".11\", i32* %\"out\"\n",
      "  %\".13\" = load i32, i32* %\"ct\"\n",
      "  %\".14\" = add i32 %\".13\", 1\n",
      "  store i32 %\".14\", i32* %\"ct\"\n",
      "  br label %\"loop.header\"\n",
      "loop.end:\n",
      "}\n",
      "\n"
     ]
    }
   ],
   "source": [
    "builder.position_at_end(loopbody)\n",
    "\n",
    "# out += ct\n",
    "builder.store(builder.add(builder.load(out), builder.load(ct)), out)\n",
    "# ct += 1\n",
    "builder.store(builder.add(builder.load(ct), ct.type.pointee(1)), ct)\n",
    "# jump to loophead\n",
    "builder.branch(loophead)\n",
    "\n",
    "print(fn)"
   ]
  },
  {
   "cell_type": "markdown",
   "metadata": {},
   "source": [
    "Populate loop end"
   ]
  },
  {
   "cell_type": "code",
   "execution_count": 9,
   "metadata": {},
   "outputs": [
    {
     "name": "stdout",
     "output_type": "stream",
     "text": [
      "define i32 @\"count_number\"(i32 %\"N\") \n",
      "{\n",
      "entry:\n",
      "  %\"out\" = alloca i32\n",
      "  %\"ct\" = alloca i32\n",
      "  store i32 0, i32* %\"out\"\n",
      "  store i32 0, i32* %\"ct\"\n",
      "  br label %\"loop.header\"\n",
      "loop.header:\n",
      "  %\".6\" = load i32, i32* %\"ct\"\n",
      "  %\".7\" = icmp slt i32 %\".6\", %\"N\"\n",
      "  br i1 %\".7\", label %\"loop.body\", label %\"loop.end\"\n",
      "loop.body:\n",
      "  %\".9\" = load i32, i32* %\"out\"\n",
      "  %\".10\" = load i32, i32* %\"ct\"\n",
      "  %\".11\" = add i32 %\".9\", %\".10\"\n",
      "  store i32 %\".11\", i32* %\"out\"\n",
      "  %\".13\" = load i32, i32* %\"ct\"\n",
      "  %\".14\" = add i32 %\".13\", 1\n",
      "  store i32 %\".14\", i32* %\"ct\"\n",
      "  br label %\"loop.header\"\n",
      "loop.end:\n",
      "  %\".17\" = load i32, i32* %\"out\"\n",
      "  ret i32 %\".17\"\n",
      "}\n",
      "\n"
     ]
    }
   ],
   "source": [
    "builder.position_at_end(loopend)\n",
    "\n",
    "builder.ret(builder.load(out))\n",
    "\n",
    "print(fn)"
   ]
  },
  {
   "cell_type": "markdown",
   "metadata": {},
   "source": [
    "Visualize CFG"
   ]
  },
  {
   "cell_type": "code",
   "execution_count": 10,
   "metadata": {},
   "outputs": [
    {
     "data": {
      "image/svg+xml": [
       "<svg height=\"417pt\" viewBox=\"0.00 0.00 366.49 417.00\" width=\"366pt\" xmlns=\"http://www.w3.org/2000/svg\" xmlns:xlink=\"http://www.w3.org/1999/xlink\">\n",
       "<g class=\"graph\" id=\"graph0\" transform=\"scale(1 1) rotate(0) translate(4 413)\">\n",
       "<title>CFG for 'count_number' function</title>\n",
       "<polygon fill=\"white\" points=\"-4,4 -4,-413 362.49,-413 362.49,4 -4,4\" stroke=\"transparent\"/>\n",
       "<text font-family=\"Times,serif\" font-size=\"14.00\" text-anchor=\"middle\" x=\"179.25\" y=\"-6.8\">CFG for 'count_number' function</text>\n",
       "<!-- Node0x7fbf659f1b70 -->\n",
       "<g class=\"node\" id=\"node1\">\n",
       "<title>Node0x7fbf659f1b70</title>\n",
       "<polygon fill=\"none\" points=\"80.72,-316.5 80.72,-408.5 224.27,-408.5 224.27,-316.5 80.72,-316.5\" stroke=\"black\"/>\n",
       "<text font-family=\"Times,serif\" font-size=\"14.00\" text-anchor=\"start\" x=\"88.72\" y=\"-393.3\">entry:</text>\n",
       "<text font-family=\"Times,serif\" font-size=\"14.00\" text-anchor=\"start\" x=\"88.72\" y=\"-379.3\"> %out = alloca i32</text>\n",
       "<text font-family=\"Times,serif\" font-size=\"14.00\" text-anchor=\"start\" x=\"88.72\" y=\"-365.3\"> %ct = alloca i32</text>\n",
       "<text font-family=\"Times,serif\" font-size=\"14.00\" text-anchor=\"start\" x=\"88.72\" y=\"-351.3\"> store i32 0, i32* %out</text>\n",
       "<text font-family=\"Times,serif\" font-size=\"14.00\" text-anchor=\"start\" x=\"88.72\" y=\"-337.3\"> store i32 0, i32* %ct</text>\n",
       "<text font-family=\"Times,serif\" font-size=\"14.00\" text-anchor=\"start\" x=\"88.72\" y=\"-323.3\"> br label %loop.header</text>\n",
       "</g>\n",
       "<!-- Node0x7fbf659f1e60 -->\n",
       "<g class=\"node\" id=\"node2\">\n",
       "<title>Node0x7fbf659f1e60</title>\n",
       "<polygon fill=\"none\" points=\"15.48,-193.5 15.48,-279.5 289.51,-279.5 289.51,-193.5 15.48,-193.5\" stroke=\"black\"/>\n",
       "<text font-family=\"Times,serif\" font-size=\"14.00\" text-anchor=\"start\" x=\"23.48\" y=\"-264.3\">loop.header: </text>\n",
       "<text font-family=\"Times,serif\" font-size=\"14.00\" text-anchor=\"start\" x=\"23.48\" y=\"-250.3\"> %.6 = load i32, i32* %ct</text>\n",
       "<text font-family=\"Times,serif\" font-size=\"14.00\" text-anchor=\"start\" x=\"23.48\" y=\"-236.3\"> %.7 = icmp slt i32 %.6, %N</text>\n",
       "<text font-family=\"Times,serif\" font-size=\"14.00\" text-anchor=\"start\" x=\"23.48\" y=\"-222.3\"> br i1 %.7, label %loop.body, label %loop.end</text>\n",
       "<polyline fill=\"none\" points=\"15.48,-215.5 289.51,-215.5 \" stroke=\"black\"/>\n",
       "<text font-family=\"Times,serif\" font-size=\"14.00\" text-anchor=\"middle\" x=\"83.75\" y=\"-200.3\">T</text>\n",
       "<polyline fill=\"none\" points=\"152.03,-193.5 152.03,-215.5 \" stroke=\"black\"/>\n",
       "<text font-family=\"Times,serif\" font-size=\"14.00\" text-anchor=\"middle\" x=\"220.42\" y=\"-200.3\">F</text>\n",
       "</g>\n",
       "<!-- Node0x7fbf659f1b70&#45;&gt;Node0x7fbf659f1e60 -->\n",
       "<g class=\"edge\" id=\"edge1\">\n",
       "<title>Node0x7fbf659f1b70-&gt;Node0x7fbf659f1e60</title>\n",
       "<path d=\"M152.5,-316.38C152.5,-307.82 152.5,-298.8 152.5,-290.03\" fill=\"none\" stroke=\"black\"/>\n",
       "<polygon fill=\"black\" points=\"156,-289.9 152.5,-279.9 149,-289.9 156,-289.9\" stroke=\"black\"/>\n",
       "</g>\n",
       "<!-- Node0x7fbf659f2020 -->\n",
       "<g class=\"node\" id=\"node3\">\n",
       "<title>Node0x7fbf659f2020</title>\n",
       "<polygon fill=\"none\" points=\"0,-22.5 0,-156.5 166.99,-156.5 166.99,-22.5 0,-22.5\" stroke=\"black\"/>\n",
       "<text font-family=\"Times,serif\" font-size=\"14.00\" text-anchor=\"start\" x=\"8\" y=\"-141.3\">loop.body: </text>\n",
       "<text font-family=\"Times,serif\" font-size=\"14.00\" text-anchor=\"start\" x=\"8\" y=\"-127.3\"> %.9 = load i32, i32* %out</text>\n",
       "<text font-family=\"Times,serif\" font-size=\"14.00\" text-anchor=\"start\" x=\"8\" y=\"-113.3\"> %.10 = load i32, i32* %ct</text>\n",
       "<text font-family=\"Times,serif\" font-size=\"14.00\" text-anchor=\"start\" x=\"8\" y=\"-99.3\"> %.11 = add i32 %.9, %.10</text>\n",
       "<text font-family=\"Times,serif\" font-size=\"14.00\" text-anchor=\"start\" x=\"8\" y=\"-85.3\"> store i32 %.11, i32* %out</text>\n",
       "<text font-family=\"Times,serif\" font-size=\"14.00\" text-anchor=\"start\" x=\"8\" y=\"-71.3\"> %.13 = load i32, i32* %ct</text>\n",
       "<text font-family=\"Times,serif\" font-size=\"14.00\" text-anchor=\"start\" x=\"8\" y=\"-57.3\"> %.14 = add i32 %.13, 1</text>\n",
       "<text font-family=\"Times,serif\" font-size=\"14.00\" text-anchor=\"start\" x=\"8\" y=\"-43.3\"> store i32 %.14, i32* %ct</text>\n",
       "<text font-family=\"Times,serif\" font-size=\"14.00\" text-anchor=\"start\" x=\"8\" y=\"-29.3\"> br label %loop.header</text>\n",
       "</g>\n",
       "<!-- Node0x7fbf659f1e60&#45;&gt;Node0x7fbf659f2020 -->\n",
       "<g class=\"edge\" id=\"edge2\">\n",
       "<title>Node0x7fbf659f1e60:s0-&gt;Node0x7fbf659f2020</title>\n",
       "<path d=\"M83.5,-193C81.81,-184.47 80.44,-175.53 79.39,-166.65\" fill=\"none\" stroke=\"black\"/>\n",
       "<polygon fill=\"black\" points=\"82.86,-166.24 78.33,-156.67 75.9,-166.98 82.86,-166.24\" stroke=\"black\"/>\n",
       "</g>\n",
       "<!-- Node0x7fbf659f2080 -->\n",
       "<g class=\"node\" id=\"node4\">\n",
       "<title>Node0x7fbf659f2080</title>\n",
       "<polygon fill=\"none\" points=\"184.5,-64.5 184.5,-114.5 358.49,-114.5 358.49,-64.5 184.5,-64.5\" stroke=\"black\"/>\n",
       "<text font-family=\"Times,serif\" font-size=\"14.00\" text-anchor=\"start\" x=\"192.5\" y=\"-99.3\">loop.end: </text>\n",
       "<text font-family=\"Times,serif\" font-size=\"14.00\" text-anchor=\"start\" x=\"192.5\" y=\"-85.3\"> %.17 = load i32, i32* %out</text>\n",
       "<text font-family=\"Times,serif\" font-size=\"14.00\" text-anchor=\"start\" x=\"192.5\" y=\"-71.3\"> ret i32 %.17</text>\n",
       "</g>\n",
       "<!-- Node0x7fbf659f1e60&#45;&gt;Node0x7fbf659f2080 -->\n",
       "<g class=\"edge\" id=\"edge3\">\n",
       "<title>Node0x7fbf659f1e60:s1-&gt;Node0x7fbf659f2080</title>\n",
       "<path d=\"M289.5,-204.5C322.46,-204.5 305.62,-157.41 289.37,-123.76\" fill=\"none\" stroke=\"black\"/>\n",
       "<polygon fill=\"black\" points=\"292.44,-122.07 284.85,-114.68 286.17,-125.19 292.44,-122.07\" stroke=\"black\"/>\n",
       "</g>\n",
       "<!-- Node0x7fbf659f2020&#45;&gt;Node0x7fbf659f1e60 -->\n",
       "<g class=\"edge\" id=\"edge4\">\n",
       "<title>Node0x7fbf659f2020-&gt;Node0x7fbf659f1e60</title>\n",
       "<path d=\"M88.66,-156.74C87.85,-165.34 86.75,-174.16 85.34,-182.76\" fill=\"none\" stroke=\"black\"/>\n",
       "<polygon fill=\"black\" points=\"81.87,-182.27 83.55,-192.73 88.76,-183.51 81.87,-182.27\" stroke=\"black\"/>\n",
       "</g>\n",
       "</g>\n",
       "</svg>"
      ],
      "text/plain": [
       "<IPython.core.display.SVG object>"
      ]
     },
     "execution_count": 10,
     "metadata": {},
     "output_type": "execute_result"
    }
   ],
   "source": [
    "from llvmlite import binding as llvm\n",
    "\n",
    "dot = llvm.get_function_cfg(fn)\n",
    "llvm.view_dot_graph(dot)"
   ]
  },
  {
   "cell_type": "markdown",
   "metadata": {},
   "source": [
    "Optimize the function"
   ]
  },
  {
   "cell_type": "code",
   "execution_count": null,
   "metadata": {},
   "outputs": [],
   "source": [
    "# materialize a LLVM module\n",
    "mod = llvm.parse_assembly(str(m))\n",
    "\n",
    "# create optimizer\n",
    "pm = llvm.create_module_pass_manager()\n",
    "pmb = llvm.create_pass_manager_builder()\n",
    "pmb.opt_level = 1  # -O3\n",
    "pmb.populate(pm)\n",
    "\n",
    "# optimize\n",
    "pm.run(mod)\n",
    "\n",
    "print(mod)"
   ]
  },
  {
   "cell_type": "markdown",
   "metadata": {},
   "source": [
    "View optimized CFG"
   ]
  },
  {
   "cell_type": "code",
   "execution_count": 12,
   "metadata": {},
   "outputs": [
    {
     "data": {
      "image/svg+xml": [
       "<svg height=\"417pt\" viewBox=\"0.00 0.00 366.49 417.00\" width=\"366pt\" xmlns=\"http://www.w3.org/2000/svg\" xmlns:xlink=\"http://www.w3.org/1999/xlink\">\n",
       "<g class=\"graph\" id=\"graph0\" transform=\"scale(1 1) rotate(0) translate(4 413)\">\n",
       "<title>CFG for 'count_number' function</title>\n",
       "<polygon fill=\"white\" points=\"-4,4 -4,-413 362.49,-413 362.49,4 -4,4\" stroke=\"transparent\"/>\n",
       "<text font-family=\"Times,serif\" font-size=\"14.00\" text-anchor=\"middle\" x=\"179.25\" y=\"-6.8\">CFG for 'count_number' function</text>\n",
       "<!-- Node0x7fbf65b237b0 -->\n",
       "<g class=\"node\" id=\"node1\">\n",
       "<title>Node0x7fbf65b237b0</title>\n",
       "<polygon fill=\"none\" points=\"80.72,-316.5 80.72,-408.5 224.27,-408.5 224.27,-316.5 80.72,-316.5\" stroke=\"black\"/>\n",
       "<text font-family=\"Times,serif\" font-size=\"14.00\" text-anchor=\"start\" x=\"88.72\" y=\"-393.3\">entry:</text>\n",
       "<text font-family=\"Times,serif\" font-size=\"14.00\" text-anchor=\"start\" x=\"88.72\" y=\"-379.3\"> %out = alloca i32</text>\n",
       "<text font-family=\"Times,serif\" font-size=\"14.00\" text-anchor=\"start\" x=\"88.72\" y=\"-365.3\"> %ct = alloca i32</text>\n",
       "<text font-family=\"Times,serif\" font-size=\"14.00\" text-anchor=\"start\" x=\"88.72\" y=\"-351.3\"> store i32 0, i32* %out</text>\n",
       "<text font-family=\"Times,serif\" font-size=\"14.00\" text-anchor=\"start\" x=\"88.72\" y=\"-337.3\"> store i32 0, i32* %ct</text>\n",
       "<text font-family=\"Times,serif\" font-size=\"14.00\" text-anchor=\"start\" x=\"88.72\" y=\"-323.3\"> br label %loop.header</text>\n",
       "</g>\n",
       "<!-- Node0x7fbf65b057b0 -->\n",
       "<g class=\"node\" id=\"node2\">\n",
       "<title>Node0x7fbf65b057b0</title>\n",
       "<polygon fill=\"none\" points=\"15.48,-193.5 15.48,-279.5 289.51,-279.5 289.51,-193.5 15.48,-193.5\" stroke=\"black\"/>\n",
       "<text font-family=\"Times,serif\" font-size=\"14.00\" text-anchor=\"start\" x=\"23.48\" y=\"-264.3\">loop.header: </text>\n",
       "<text font-family=\"Times,serif\" font-size=\"14.00\" text-anchor=\"start\" x=\"23.48\" y=\"-250.3\"> %.6 = load i32, i32* %ct</text>\n",
       "<text font-family=\"Times,serif\" font-size=\"14.00\" text-anchor=\"start\" x=\"23.48\" y=\"-236.3\"> %.7 = icmp slt i32 %.6, %N</text>\n",
       "<text font-family=\"Times,serif\" font-size=\"14.00\" text-anchor=\"start\" x=\"23.48\" y=\"-222.3\"> br i1 %.7, label %loop.body, label %loop.end</text>\n",
       "<polyline fill=\"none\" points=\"15.48,-215.5 289.51,-215.5 \" stroke=\"black\"/>\n",
       "<text font-family=\"Times,serif\" font-size=\"14.00\" text-anchor=\"middle\" x=\"83.75\" y=\"-200.3\">T</text>\n",
       "<polyline fill=\"none\" points=\"152.03,-193.5 152.03,-215.5 \" stroke=\"black\"/>\n",
       "<text font-family=\"Times,serif\" font-size=\"14.00\" text-anchor=\"middle\" x=\"220.42\" y=\"-200.3\">F</text>\n",
       "</g>\n",
       "<!-- Node0x7fbf65b237b0&#45;&gt;Node0x7fbf65b057b0 -->\n",
       "<g class=\"edge\" id=\"edge1\">\n",
       "<title>Node0x7fbf65b237b0-&gt;Node0x7fbf65b057b0</title>\n",
       "<path d=\"M152.5,-316.38C152.5,-307.82 152.5,-298.8 152.5,-290.03\" fill=\"none\" stroke=\"black\"/>\n",
       "<polygon fill=\"black\" points=\"156,-289.9 152.5,-279.9 149,-289.9 156,-289.9\" stroke=\"black\"/>\n",
       "</g>\n",
       "<!-- Node0x7fbf65b8c7a0 -->\n",
       "<g class=\"node\" id=\"node3\">\n",
       "<title>Node0x7fbf65b8c7a0</title>\n",
       "<polygon fill=\"none\" points=\"0,-22.5 0,-156.5 166.99,-156.5 166.99,-22.5 0,-22.5\" stroke=\"black\"/>\n",
       "<text font-family=\"Times,serif\" font-size=\"14.00\" text-anchor=\"start\" x=\"8\" y=\"-141.3\">loop.body: </text>\n",
       "<text font-family=\"Times,serif\" font-size=\"14.00\" text-anchor=\"start\" x=\"8\" y=\"-127.3\"> %.9 = load i32, i32* %out</text>\n",
       "<text font-family=\"Times,serif\" font-size=\"14.00\" text-anchor=\"start\" x=\"8\" y=\"-113.3\"> %.10 = load i32, i32* %ct</text>\n",
       "<text font-family=\"Times,serif\" font-size=\"14.00\" text-anchor=\"start\" x=\"8\" y=\"-99.3\"> %.11 = add i32 %.9, %.10</text>\n",
       "<text font-family=\"Times,serif\" font-size=\"14.00\" text-anchor=\"start\" x=\"8\" y=\"-85.3\"> store i32 %.11, i32* %out</text>\n",
       "<text font-family=\"Times,serif\" font-size=\"14.00\" text-anchor=\"start\" x=\"8\" y=\"-71.3\"> %.13 = load i32, i32* %ct</text>\n",
       "<text font-family=\"Times,serif\" font-size=\"14.00\" text-anchor=\"start\" x=\"8\" y=\"-57.3\"> %.14 = add i32 %.13, 1</text>\n",
       "<text font-family=\"Times,serif\" font-size=\"14.00\" text-anchor=\"start\" x=\"8\" y=\"-43.3\"> store i32 %.14, i32* %ct</text>\n",
       "<text font-family=\"Times,serif\" font-size=\"14.00\" text-anchor=\"start\" x=\"8\" y=\"-29.3\"> br label %loop.header</text>\n",
       "</g>\n",
       "<!-- Node0x7fbf65b057b0&#45;&gt;Node0x7fbf65b8c7a0 -->\n",
       "<g class=\"edge\" id=\"edge2\">\n",
       "<title>Node0x7fbf65b057b0:s0-&gt;Node0x7fbf65b8c7a0</title>\n",
       "<path d=\"M83.5,-193C81.81,-184.47 80.44,-175.53 79.39,-166.65\" fill=\"none\" stroke=\"black\"/>\n",
       "<polygon fill=\"black\" points=\"82.86,-166.24 78.33,-156.67 75.9,-166.98 82.86,-166.24\" stroke=\"black\"/>\n",
       "</g>\n",
       "<!-- Node0x7fbf65ba7c50 -->\n",
       "<g class=\"node\" id=\"node4\">\n",
       "<title>Node0x7fbf65ba7c50</title>\n",
       "<polygon fill=\"none\" points=\"184.5,-64.5 184.5,-114.5 358.49,-114.5 358.49,-64.5 184.5,-64.5\" stroke=\"black\"/>\n",
       "<text font-family=\"Times,serif\" font-size=\"14.00\" text-anchor=\"start\" x=\"192.5\" y=\"-99.3\">loop.end: </text>\n",
       "<text font-family=\"Times,serif\" font-size=\"14.00\" text-anchor=\"start\" x=\"192.5\" y=\"-85.3\"> %.17 = load i32, i32* %out</text>\n",
       "<text font-family=\"Times,serif\" font-size=\"14.00\" text-anchor=\"start\" x=\"192.5\" y=\"-71.3\"> ret i32 %.17</text>\n",
       "</g>\n",
       "<!-- Node0x7fbf65b057b0&#45;&gt;Node0x7fbf65ba7c50 -->\n",
       "<g class=\"edge\" id=\"edge3\">\n",
       "<title>Node0x7fbf65b057b0:s1-&gt;Node0x7fbf65ba7c50</title>\n",
       "<path d=\"M289.5,-204.5C322.46,-204.5 305.62,-157.41 289.37,-123.76\" fill=\"none\" stroke=\"black\"/>\n",
       "<polygon fill=\"black\" points=\"292.44,-122.07 284.85,-114.68 286.17,-125.19 292.44,-122.07\" stroke=\"black\"/>\n",
       "</g>\n",
       "<!-- Node0x7fbf65b8c7a0&#45;&gt;Node0x7fbf65b057b0 -->\n",
       "<g class=\"edge\" id=\"edge4\">\n",
       "<title>Node0x7fbf65b8c7a0-&gt;Node0x7fbf65b057b0</title>\n",
       "<path d=\"M88.66,-156.74C87.85,-165.34 86.75,-174.16 85.34,-182.76\" fill=\"none\" stroke=\"black\"/>\n",
       "<polygon fill=\"black\" points=\"81.87,-182.27 83.55,-192.73 88.76,-183.51 81.87,-182.27\" stroke=\"black\"/>\n",
       "</g>\n",
       "</g>\n",
       "</svg>"
      ],
      "text/plain": [
       "<IPython.core.display.SVG object>"
      ]
     },
     "execution_count": 12,
     "metadata": {},
     "output_type": "execute_result"
    }
   ],
   "source": [
    "dot = llvm.get_function_cfg(mod.get_function(fn.name))\n",
    "llvm.view_dot_graph(dot)"
   ]
  },
  {
   "cell_type": "markdown",
   "metadata": {},
   "source": [
    "Notice LLVM has optimized the looping away."
   ]
  }
 ],
 "metadata": {
  "@webio": {
   "lastCommId": null,
   "lastKernelId": null
  },
  "kernelspec": {
   "display_name": "Python 3",
   "language": "python",
   "name": "python3"
  },
  "language_info": {
   "codemirror_mode": {
    "name": "ipython",
    "version": 3
   },
   "file_extension": ".py",
   "mimetype": "text/x-python",
   "name": "python",
   "nbconvert_exporter": "python",
   "pygments_lexer": "ipython3",
   "version": "3.7.7"
  },
  "latex_envs": {
   "LaTeX_envs_menu_present": true,
   "autoclose": false,
   "autocomplete": true,
   "bibliofile": "biblio.bib",
   "cite_by": "apalike",
   "current_citInitial": 1,
   "eqLabelWithNumbers": true,
   "eqNumInitial": 1,
   "hotkeys": {
    "equation": "Ctrl-E",
    "itemize": "Ctrl-I"
   },
   "labels_anchors": false,
   "latex_user_defs": false,
   "report_style_numbering": false,
   "user_envs_cfg": false
  },
  "toc": {
   "base_numbering": 1,
   "nav_menu": {},
   "number_sections": true,
   "sideBar": true,
   "skip_h1_title": false,
   "title_cell": "Table of Contents",
   "title_sidebar": "Contents",
   "toc_cell": false,
   "toc_position": {},
   "toc_section_display": true,
   "toc_window_display": false
  }
 },
 "nbformat": 4,
 "nbformat_minor": 1
}
