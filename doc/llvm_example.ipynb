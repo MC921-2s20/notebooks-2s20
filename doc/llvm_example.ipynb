{
 "cells": [
  {
   "cell_type": "markdown",
   "metadata": {},
   "source": [
    "# llvmlite Example\n",
    "\n",
    "Build a simple function with a for loop that sum the first N integer, where N is the argument."
   ]
  },
  {
   "cell_type": "code",
   "execution_count": 2,
   "metadata": {},
   "outputs": [],
   "source": [
    "from llvmlite import ir"
   ]
  },
  {
   "cell_type": "code",
   "execution_count": 3,
   "metadata": {},
   "outputs": [],
   "source": [
    "m = ir.Module()"
   ]
  },
  {
   "cell_type": "code",
   "execution_count": 4,
   "metadata": {},
   "outputs": [
    {
     "name": "stdout",
     "output_type": "stream",
     "text": [
      "i32 (i32)\n"
     ]
    }
   ],
   "source": [
    "fnty = ir.FunctionType(ir.IntType(32), [ir.IntType(32)])\n",
    "print(fnty)"
   ]
  },
  {
   "cell_type": "code",
   "execution_count": 5,
   "metadata": {},
   "outputs": [
    {
     "name": "stdout",
     "output_type": "stream",
     "text": [
      "declare i32 @\"count_number\"(i32 %\"N\") \n",
      "\n"
     ]
    }
   ],
   "source": [
    "fn = ir.Function(m, fnty, \"count_number\")\n",
    "fn.args[0].name= 'N'\n",
    "print(fn)"
   ]
  },
  {
   "cell_type": "code",
   "execution_count": 6,
   "metadata": {},
   "outputs": [],
   "source": [
    "builder = ir.IRBuilder(fn.append_basic_block('entry'))"
   ]
  },
  {
   "cell_type": "markdown",
   "metadata": {},
   "source": [
    "Initialize variable `ct` and `out` with `0`"
   ]
  },
  {
   "cell_type": "code",
   "execution_count": 7,
   "metadata": {},
   "outputs": [
    {
     "name": "stdout",
     "output_type": "stream",
     "text": [
      "define i32 @\"count_number\"(i32 %\"N\") \n",
      "{\n",
      "entry:\n",
      "  %\"out\" = alloca i32\n",
      "  %\"ct\" = alloca i32\n",
      "  store i32 0, i32* %\"out\"\n",
      "  store i32 0, i32* %\"ct\"\n",
      "}\n",
      "\n"
     ]
    }
   ],
   "source": [
    "out = builder.alloca(ir.IntType(32), name='out')\n",
    "ct = builder.alloca(ir.IntType(32), name='ct')\n",
    "builder.store(out.type.pointee(0), out)\n",
    "builder.store(ct.type.pointee(0), ct)\n",
    "print(fn)"
   ]
  },
  {
   "cell_type": "markdown",
   "metadata": {},
   "source": [
    "Populate loop header"
   ]
  },
  {
   "cell_type": "code",
   "execution_count": 8,
   "metadata": {},
   "outputs": [
    {
     "name": "stdout",
     "output_type": "stream",
     "text": [
      "define i32 @\"count_number\"(i32 %\"N\") \n",
      "{\n",
      "entry:\n",
      "  %\"out\" = alloca i32\n",
      "  %\"ct\" = alloca i32\n",
      "  store i32 0, i32* %\"out\"\n",
      "  store i32 0, i32* %\"ct\"\n",
      "  br label %\"loop.header\"\n",
      "loop.header:\n",
      "  %\".6\" = load i32, i32* %\"ct\"\n",
      "  %\".7\" = icmp slt i32 %\".6\", %\"N\"\n",
      "  br i1 %\".7\", label %\"loop.body\", label %\"loop.end\"\n",
      "loop.body:\n",
      "loop.end:\n",
      "}\n",
      "\n"
     ]
    }
   ],
   "source": [
    "loophead = fn.append_basic_block('loop.header')\n",
    "loopbody = fn.append_basic_block('loop.body')\n",
    "loopend = fn.append_basic_block('loop.end')\n",
    "\n",
    "builder.branch(loophead)\n",
    "builder.position_at_end(loophead)\n",
    "\n",
    "# loop if ct < arg0\n",
    "arg0 = fn.args[0]\n",
    "pred = builder.icmp_signed('<', builder.load(ct), arg0)\n",
    "builder.cbranch(pred, loopbody, loopend)\n",
    "\n",
    "print(fn)"
   ]
  },
  {
   "cell_type": "markdown",
   "metadata": {},
   "source": [
    "Populate loop body"
   ]
  },
  {
   "cell_type": "code",
   "execution_count": 9,
   "metadata": {},
   "outputs": [
    {
     "name": "stdout",
     "output_type": "stream",
     "text": [
      "define i32 @\"count_number\"(i32 %\"N\") \n",
      "{\n",
      "entry:\n",
      "  %\"out\" = alloca i32\n",
      "  %\"ct\" = alloca i32\n",
      "  store i32 0, i32* %\"out\"\n",
      "  store i32 0, i32* %\"ct\"\n",
      "  br label %\"loop.header\"\n",
      "loop.header:\n",
      "  %\".6\" = load i32, i32* %\"ct\"\n",
      "  %\".7\" = icmp slt i32 %\".6\", %\"N\"\n",
      "  br i1 %\".7\", label %\"loop.body\", label %\"loop.end\"\n",
      "loop.body:\n",
      "  %\".9\" = load i32, i32* %\"out\"\n",
      "  %\".10\" = load i32, i32* %\"ct\"\n",
      "  %\".11\" = add i32 %\".9\", %\".10\"\n",
      "  store i32 %\".11\", i32* %\"out\"\n",
      "  %\".13\" = load i32, i32* %\"ct\"\n",
      "  %\".14\" = add i32 %\".13\", 1\n",
      "  store i32 %\".14\", i32* %\"ct\"\n",
      "  br label %\"loop.header\"\n",
      "loop.end:\n",
      "}\n",
      "\n"
     ]
    }
   ],
   "source": [
    "builder.position_at_end(loopbody)\n",
    "\n",
    "# out += ct\n",
    "builder.store(builder.add(builder.load(out), builder.load(ct)), out)\n",
    "# ct += 1\n",
    "builder.store(builder.add(builder.load(ct), ct.type.pointee(1)), ct)\n",
    "# jump to loophead\n",
    "builder.branch(loophead)\n",
    "\n",
    "print(fn)"
   ]
  },
  {
   "cell_type": "markdown",
   "metadata": {},
   "source": [
    "Populate loop end"
   ]
  },
  {
   "cell_type": "code",
   "execution_count": 10,
   "metadata": {},
   "outputs": [
    {
     "name": "stdout",
     "output_type": "stream",
     "text": [
      "define i32 @\"count_number\"(i32 %\"N\") \n",
      "{\n",
      "entry:\n",
      "  %\"out\" = alloca i32\n",
      "  %\"ct\" = alloca i32\n",
      "  store i32 0, i32* %\"out\"\n",
      "  store i32 0, i32* %\"ct\"\n",
      "  br label %\"loop.header\"\n",
      "loop.header:\n",
      "  %\".6\" = load i32, i32* %\"ct\"\n",
      "  %\".7\" = icmp slt i32 %\".6\", %\"N\"\n",
      "  br i1 %\".7\", label %\"loop.body\", label %\"loop.end\"\n",
      "loop.body:\n",
      "  %\".9\" = load i32, i32* %\"out\"\n",
      "  %\".10\" = load i32, i32* %\"ct\"\n",
      "  %\".11\" = add i32 %\".9\", %\".10\"\n",
      "  store i32 %\".11\", i32* %\"out\"\n",
      "  %\".13\" = load i32, i32* %\"ct\"\n",
      "  %\".14\" = add i32 %\".13\", 1\n",
      "  store i32 %\".14\", i32* %\"ct\"\n",
      "  br label %\"loop.header\"\n",
      "loop.end:\n",
      "  %\".17\" = load i32, i32* %\"out\"\n",
      "  ret i32 %\".17\"\n",
      "}\n",
      "\n"
     ]
    }
   ],
   "source": [
    "builder.position_at_end(loopend)\n",
    "\n",
    "builder.ret(builder.load(out))\n",
    "\n",
    "print(fn)"
   ]
  },
  {
   "cell_type": "markdown",
   "metadata": {},
   "source": [
    "Visualize CFG"
   ]
  },
  {
   "cell_type": "code",
   "execution_count": 11,
   "metadata": {},
   "outputs": [
    {
     "data": {
      "image/svg+xml": [
       "<svg xmlns=\"http://www.w3.org/2000/svg\" xmlns:xlink=\"http://www.w3.org/1999/xlink\" width=\"370pt\" height=\"438pt\" viewBox=\"0.00 0.00 369.50 438.00\">\n",
       "<g id=\"graph0\" class=\"graph\" transform=\"scale(1 1) rotate(0) translate(4 434)\">\n",
       "<title>CFG for 'count_number' function</title>\n",
       "<polygon fill=\"white\" stroke=\"transparent\" points=\"-4,4 -4,-434 365.5,-434 365.5,4 -4,4\"/>\n",
       "<text text-anchor=\"middle\" x=\"180.75\" y=\"-7.8\" font-family=\"Times,serif\" font-size=\"14.00\">CFG for 'count_number' function</text>\n",
       "<!-- Node0x7ff6be0ac870 -->\n",
       "<g id=\"node1\" class=\"node\">\n",
       "<title>Node0x7ff6be0ac870</title>\n",
       "<polygon fill=\"none\" stroke=\"black\" points=\"81,-331.5 81,-429.5 224,-429.5 224,-331.5 81,-331.5\"/>\n",
       "<text text-anchor=\"start\" x=\"89\" y=\"-414.3\" font-family=\"Times,serif\" font-size=\"14.00\">entry:</text>\n",
       "<text text-anchor=\"start\" x=\"89\" y=\"-399.3\" font-family=\"Times,serif\" font-size=\"14.00\"> %out = alloca i32</text>\n",
       "<text text-anchor=\"start\" x=\"89\" y=\"-384.3\" font-family=\"Times,serif\" font-size=\"14.00\"> %ct = alloca i32</text>\n",
       "<text text-anchor=\"start\" x=\"89\" y=\"-369.3\" font-family=\"Times,serif\" font-size=\"14.00\"> store i32 0, i32* %out</text>\n",
       "<text text-anchor=\"start\" x=\"89\" y=\"-354.3\" font-family=\"Times,serif\" font-size=\"14.00\"> store i32 0, i32* %ct</text>\n",
       "<text text-anchor=\"start\" x=\"89\" y=\"-339.3\" font-family=\"Times,serif\" font-size=\"14.00\"> br label %loop.header</text>\n",
       "</g>\n",
       "<!-- Node0x7ff6be0ab4b0 -->\n",
       "<g id=\"node2\" class=\"node\">\n",
       "<title>Node0x7ff6be0ab4b0</title>\n",
       "<polygon fill=\"none\" stroke=\"black\" points=\"16.5,-203.5 16.5,-294.5 288.5,-294.5 288.5,-203.5 16.5,-203.5\"/>\n",
       "<text text-anchor=\"start\" x=\"24.5\" y=\"-279.3\" font-family=\"Times,serif\" font-size=\"14.00\">loop.header: </text>\n",
       "<text text-anchor=\"start\" x=\"24.5\" y=\"-264.3\" font-family=\"Times,serif\" font-size=\"14.00\"> %.6 = load i32, i32* %ct</text>\n",
       "<text text-anchor=\"start\" x=\"24.5\" y=\"-249.3\" font-family=\"Times,serif\" font-size=\"14.00\"> %.7 = icmp slt i32 %.6, %N</text>\n",
       "<text text-anchor=\"start\" x=\"24.5\" y=\"-234.3\" font-family=\"Times,serif\" font-size=\"14.00\"> br i1 %.7, label %loop.body, label %loop.end</text>\n",
       "<polyline fill=\"none\" stroke=\"black\" points=\"16.5,-226.5 288.5,-226.5 \"/>\n",
       "<text text-anchor=\"middle\" x=\"84.5\" y=\"-211.3\" font-family=\"Times,serif\" font-size=\"14.00\">T</text>\n",
       "<polyline fill=\"none\" stroke=\"black\" points=\"152.5,-203.5 152.5,-226.5 \"/>\n",
       "<text text-anchor=\"middle\" x=\"220.5\" y=\"-211.3\" font-family=\"Times,serif\" font-size=\"14.00\">F</text>\n",
       "</g>\n",
       "<!-- Node0x7ff6be0ac870&#45;&gt;Node0x7ff6be0ab4b0 -->\n",
       "<g id=\"edge1\" class=\"edge\">\n",
       "<title>Node0x7ff6be0ac870-&gt;Node0x7ff6be0ab4b0</title>\n",
       "<path fill=\"none\" stroke=\"black\" d=\"M152.5,-331.28C152.5,-322.7 152.5,-313.7 152.5,-304.95\"/>\n",
       "<polygon fill=\"black\" stroke=\"black\" points=\"156,-304.83 152.5,-294.83 149,-304.83 156,-304.83\"/>\n",
       "</g>\n",
       "<!-- Node0x7ff6be0c1310 -->\n",
       "<g id=\"node3\" class=\"node\">\n",
       "<title>Node0x7ff6be0c1310</title>\n",
       "<polygon fill=\"none\" stroke=\"black\" points=\"0,-23.5 0,-166.5 169,-166.5 169,-23.5 0,-23.5\"/>\n",
       "<text text-anchor=\"start\" x=\"8\" y=\"-151.3\" font-family=\"Times,serif\" font-size=\"14.00\">loop.body: </text>\n",
       "<text text-anchor=\"start\" x=\"8\" y=\"-136.3\" font-family=\"Times,serif\" font-size=\"14.00\"> %.9 = load i32, i32* %out</text>\n",
       "<text text-anchor=\"start\" x=\"8\" y=\"-121.3\" font-family=\"Times,serif\" font-size=\"14.00\"> %.10 = load i32, i32* %ct</text>\n",
       "<text text-anchor=\"start\" x=\"8\" y=\"-106.3\" font-family=\"Times,serif\" font-size=\"14.00\"> %.11 = add i32 %.9, %.10</text>\n",
       "<text text-anchor=\"start\" x=\"8\" y=\"-91.3\" font-family=\"Times,serif\" font-size=\"14.00\"> store i32 %.11, i32* %out</text>\n",
       "<text text-anchor=\"start\" x=\"8\" y=\"-76.3\" font-family=\"Times,serif\" font-size=\"14.00\"> %.13 = load i32, i32* %ct</text>\n",
       "<text text-anchor=\"start\" x=\"8\" y=\"-61.3\" font-family=\"Times,serif\" font-size=\"14.00\"> %.14 = add i32 %.13, 1</text>\n",
       "<text text-anchor=\"start\" x=\"8\" y=\"-46.3\" font-family=\"Times,serif\" font-size=\"14.00\"> store i32 %.14, i32* %ct</text>\n",
       "<text text-anchor=\"start\" x=\"8\" y=\"-31.3\" font-family=\"Times,serif\" font-size=\"14.00\"> br label %loop.header</text>\n",
       "</g>\n",
       "<!-- Node0x7ff6be0ab4b0&#45;&gt;Node0x7ff6be0c1310 -->\n",
       "<g id=\"edge2\" class=\"edge\">\n",
       "<title>Node0x7ff6be0ab4b0:s0-&gt;Node0x7ff6be0c1310</title>\n",
       "<path fill=\"none\" stroke=\"black\" d=\"M84.5,-203C82.88,-194.43 81.55,-185.47 80.51,-176.55\"/>\n",
       "<polygon fill=\"black\" stroke=\"black\" points=\"83.98,-176.09 79.46,-166.51 77.02,-176.82 83.98,-176.09\"/>\n",
       "</g>\n",
       "<!-- Node0x7ff6be0bbff0 -->\n",
       "<g id=\"node4\" class=\"node\">\n",
       "<title>Node0x7ff6be0bbff0</title>\n",
       "<polygon fill=\"none\" stroke=\"black\" points=\"187.5,-68.5 187.5,-121.5 361.5,-121.5 361.5,-68.5 187.5,-68.5\"/>\n",
       "<text text-anchor=\"start\" x=\"195.5\" y=\"-106.3\" font-family=\"Times,serif\" font-size=\"14.00\">loop.end: </text>\n",
       "<text text-anchor=\"start\" x=\"195.5\" y=\"-91.3\" font-family=\"Times,serif\" font-size=\"14.00\"> %.17 = load i32, i32* %out</text>\n",
       "<text text-anchor=\"start\" x=\"195.5\" y=\"-76.3\" font-family=\"Times,serif\" font-size=\"14.00\"> ret i32 %.17</text>\n",
       "</g>\n",
       "<!-- Node0x7ff6be0ab4b0&#45;&gt;Node0x7ff6be0bbff0 -->\n",
       "<g id=\"edge3\" class=\"edge\">\n",
       "<title>Node0x7ff6be0ab4b0:s1-&gt;Node0x7ff6be0bbff0</title>\n",
       "<path fill=\"none\" stroke=\"black\" d=\"M289.5,-215C323.67,-215 307.88,-166.12 292.13,-131.01\"/>\n",
       "<polygon fill=\"black\" stroke=\"black\" points=\"295.11,-129.13 287.73,-121.53 288.76,-132.07 295.11,-129.13\"/>\n",
       "</g>\n",
       "<!-- Node0x7ff6be0c1310&#45;&gt;Node0x7ff6be0ab4b0 -->\n",
       "<g id=\"edge4\" class=\"edge\">\n",
       "<title>Node0x7ff6be0c1310-&gt;Node0x7ff6be0ab4b0</title>\n",
       "<path fill=\"none\" stroke=\"black\" d=\"M89.53,-166.58C88.73,-175.24 87.64,-184.08 86.28,-192.71\"/>\n",
       "<polygon fill=\"black\" stroke=\"black\" points=\"82.81,-192.27 84.55,-202.72 89.7,-193.46 82.81,-192.27\"/>\n",
       "</g>\n",
       "</g>\n",
       "</svg>"
      ],
      "text/plain": [
       "<IPython.core.display.SVG object>"
      ]
     },
     "execution_count": 11,
     "metadata": {},
     "output_type": "execute_result"
    }
   ],
   "source": [
    "from llvmlite import binding as llvm\n",
    "\n",
    "dot = llvm.get_function_cfg(fn)\n",
    "llvm.view_dot_graph(dot)"
   ]
  },
  {
   "cell_type": "markdown",
   "metadata": {},
   "source": [
    "Optimize the function"
   ]
  },
  {
   "cell_type": "code",
   "execution_count": 13,
   "metadata": {},
   "outputs": [
    {
     "name": "stdout",
     "output_type": "stream",
     "text": [
      "; ModuleID = '<string>'\n",
      "source_filename = \"<string>\"\n",
      "target triple = \"unknown-unknown-unknown\"\n",
      "\n",
      "; Function Attrs: norecurse nounwind readnone\n",
      "define i32 @count_number(i32 %N) local_unnamed_addr #0 {\n",
      "entry:\n",
      "  %.71 = icmp sgt i32 %N, 0\n",
      "  br i1 %.71, label %loop.body.preheader, label %loop.end\n",
      "\n",
      "loop.body.preheader:                              ; preds = %entry\n",
      "  %0 = add nsw i32 %N, -1\n",
      "  %1 = zext i32 %0 to i33\n",
      "  %2 = add nsw i32 %N, -2\n",
      "  %3 = zext i32 %2 to i33\n",
      "  %4 = mul i33 %1, %3\n",
      "  %5 = lshr i33 %4, 1\n",
      "  %6 = trunc i33 %5 to i32\n",
      "  %7 = add i32 %6, %N\n",
      "  %8 = add i32 %7, -1\n",
      "  br label %loop.end\n",
      "\n",
      "loop.end:                                         ; preds = %loop.body.preheader, %entry\n",
      "  %out.0.lcssa = phi i32 [ 0, %entry ], [ %8, %loop.body.preheader ]\n",
      "  ret i32 %out.0.lcssa\n",
      "}\n",
      "\n",
      "attributes #0 = { norecurse nounwind readnone }\n",
      "\n"
     ]
    }
   ],
   "source": [
    "# materialize a LLVM module\n",
    "mod = llvm.parse_assembly(str(m))\n",
    "\n",
    "# create optimizer\n",
    "pm = llvm.create_module_pass_manager()\n",
    "pmb = llvm.create_pass_manager_builder()\n",
    "pmb.opt_level = 3\n",
    "pmb.populate(pm)\n",
    "\n",
    "# optimize\n",
    "pm.run(mod)\n",
    "\n",
    "print(mod)"
   ]
  },
  {
   "cell_type": "markdown",
   "metadata": {},
   "source": [
    "View optimized CFG"
   ]
  },
  {
   "cell_type": "code",
   "execution_count": 14,
   "metadata": {},
   "outputs": [
    {
     "data": {
      "image/svg+xml": [
       "<svg xmlns=\"http://www.w3.org/2000/svg\" xmlns:xlink=\"http://www.w3.org/1999/xlink\" width=\"400pt\" height=\"408pt\" viewBox=\"0.00 0.00 400.00 408.00\">\n",
       "<g id=\"graph0\" class=\"graph\" transform=\"scale(1 1) rotate(0) translate(4 404)\">\n",
       "<title>CFG for 'count_number' function</title>\n",
       "<polygon fill=\"white\" stroke=\"transparent\" points=\"-4,4 -4,-404 396,-404 396,4 -4,4\"/>\n",
       "<text text-anchor=\"middle\" x=\"196\" y=\"-7.8\" font-family=\"Times,serif\" font-size=\"14.00\">CFG for 'count_number' function</text>\n",
       "<!-- Node0x7ff6bce29e90 -->\n",
       "<g id=\"node1\" class=\"node\">\n",
       "<title>Node0x7ff6bce29e90</title>\n",
       "<polygon fill=\"none\" stroke=\"black\" points=\"29.5,-323.5 29.5,-399.5 364.5,-399.5 364.5,-323.5 29.5,-323.5\"/>\n",
       "<text text-anchor=\"start\" x=\"37.5\" y=\"-384.3\" font-family=\"Times,serif\" font-size=\"14.00\">entry:</text>\n",
       "<text text-anchor=\"start\" x=\"37.5\" y=\"-369.3\" font-family=\"Times,serif\" font-size=\"14.00\"> %.71 = icmp sgt i32 %N, 0</text>\n",
       "<text text-anchor=\"start\" x=\"37.5\" y=\"-354.3\" font-family=\"Times,serif\" font-size=\"14.00\"> br i1 %.71, label %loop.body.preheader, label %loop.end</text>\n",
       "<polyline fill=\"none\" stroke=\"black\" points=\"29.5,-346.5 364.5,-346.5 \"/>\n",
       "<text text-anchor=\"middle\" x=\"113.5\" y=\"-331.3\" font-family=\"Times,serif\" font-size=\"14.00\">T</text>\n",
       "<polyline fill=\"none\" stroke=\"black\" points=\"197.5,-323.5 197.5,-346.5 \"/>\n",
       "<text text-anchor=\"middle\" x=\"281\" y=\"-331.3\" font-family=\"Times,serif\" font-size=\"14.00\">F</text>\n",
       "</g>\n",
       "<!-- Node0x7ff6be3a1a90 -->\n",
       "<g id=\"node2\" class=\"node\">\n",
       "<title>Node0x7ff6be3a1a90</title>\n",
       "<polygon fill=\"none\" stroke=\"black\" points=\"58.5,-113.5 58.5,-286.5 223.5,-286.5 223.5,-113.5 58.5,-113.5\"/>\n",
       "<text text-anchor=\"start\" x=\"66.5\" y=\"-271.3\" font-family=\"Times,serif\" font-size=\"14.00\">loop.body.preheader: </text>\n",
       "<text text-anchor=\"start\" x=\"66.5\" y=\"-256.3\" font-family=\"Times,serif\" font-size=\"14.00\"> %0 = add nsw i32 %N, -1</text>\n",
       "<text text-anchor=\"start\" x=\"66.5\" y=\"-241.3\" font-family=\"Times,serif\" font-size=\"14.00\"> %1 = zext i32 %0 to i33</text>\n",
       "<text text-anchor=\"start\" x=\"66.5\" y=\"-226.3\" font-family=\"Times,serif\" font-size=\"14.00\"> %2 = add nsw i32 %N, -2</text>\n",
       "<text text-anchor=\"start\" x=\"66.5\" y=\"-211.3\" font-family=\"Times,serif\" font-size=\"14.00\"> %3 = zext i32 %2 to i33</text>\n",
       "<text text-anchor=\"start\" x=\"66.5\" y=\"-196.3\" font-family=\"Times,serif\" font-size=\"14.00\"> %4 = mul i33 %1, %3</text>\n",
       "<text text-anchor=\"start\" x=\"66.5\" y=\"-181.3\" font-family=\"Times,serif\" font-size=\"14.00\"> %5 = lshr i33 %4, 1</text>\n",
       "<text text-anchor=\"start\" x=\"66.5\" y=\"-166.3\" font-family=\"Times,serif\" font-size=\"14.00\"> %6 = trunc i33 %5 to i32</text>\n",
       "<text text-anchor=\"start\" x=\"66.5\" y=\"-151.3\" font-family=\"Times,serif\" font-size=\"14.00\"> %7 = add i32 %6, %N</text>\n",
       "<text text-anchor=\"start\" x=\"66.5\" y=\"-136.3\" font-family=\"Times,serif\" font-size=\"14.00\"> %8 = add i32 %7, -1</text>\n",
       "<text text-anchor=\"start\" x=\"66.5\" y=\"-121.3\" font-family=\"Times,serif\" font-size=\"14.00\"> br label %loop.end</text>\n",
       "</g>\n",
       "<!-- Node0x7ff6bce29e90&#45;&gt;Node0x7ff6be3a1a90 -->\n",
       "<g id=\"edge1\" class=\"edge\">\n",
       "<title>Node0x7ff6bce29e90:s0-&gt;Node0x7ff6be3a1a90</title>\n",
       "<path fill=\"none\" stroke=\"black\" d=\"M113,-323C113,-314.39 113.67,-305.53 114.8,-296.7\"/>\n",
       "<polygon fill=\"black\" stroke=\"black\" points=\"118.27,-297.16 116.27,-286.75 111.35,-296.14 118.27,-297.16\"/>\n",
       "</g>\n",
       "<!-- Node0x7ff6bce760e0 -->\n",
       "<g id=\"node3\" class=\"node\">\n",
       "<title>Node0x7ff6bce760e0</title>\n",
       "<polygon fill=\"none\" stroke=\"black\" points=\"0,-23.5 0,-76.5 392,-76.5 392,-23.5 0,-23.5\"/>\n",
       "<text text-anchor=\"start\" x=\"8\" y=\"-61.3\" font-family=\"Times,serif\" font-size=\"14.00\">loop.end: </text>\n",
       "<text text-anchor=\"start\" x=\"8\" y=\"-46.3\" font-family=\"Times,serif\" font-size=\"14.00\"> %out.0.lcssa = phi i32 [ 0, %entry ], [ %8, %loop.body.preheader ]</text>\n",
       "<text text-anchor=\"start\" x=\"8\" y=\"-31.3\" font-family=\"Times,serif\" font-size=\"14.00\"> ret i32 %out.0.lcssa</text>\n",
       "</g>\n",
       "<!-- Node0x7ff6bce29e90&#45;&gt;Node0x7ff6bce760e0 -->\n",
       "<g id=\"edge2\" class=\"edge\">\n",
       "<title>Node0x7ff6bce29e90:s1-&gt;Node0x7ff6bce760e0</title>\n",
       "<path fill=\"none\" stroke=\"black\" d=\"M281,-323C281,-227.26 268.63,-201.86 233,-113 229.26,-103.67 224.24,-94.11 219.1,-85.37\"/>\n",
       "<polygon fill=\"black\" stroke=\"black\" points=\"221.94,-83.32 213.75,-76.61 215.97,-86.97 221.94,-83.32\"/>\n",
       "</g>\n",
       "<!-- Node0x7ff6be3a1a90&#45;&gt;Node0x7ff6bce760e0 -->\n",
       "<g id=\"edge3\" class=\"edge\">\n",
       "<title>Node0x7ff6be3a1a90-&gt;Node0x7ff6bce760e0</title>\n",
       "<path fill=\"none\" stroke=\"black\" d=\"M172.83,-113.34C176.35,-103.88 179.76,-94.69 182.85,-86.4\"/>\n",
       "<polygon fill=\"black\" stroke=\"black\" points=\"186.22,-87.36 186.42,-76.77 179.66,-84.92 186.22,-87.36\"/>\n",
       "</g>\n",
       "</g>\n",
       "</svg>"
      ],
      "text/plain": [
       "<IPython.core.display.SVG object>"
      ]
     },
     "execution_count": 14,
     "metadata": {},
     "output_type": "execute_result"
    }
   ],
   "source": [
    "dot = llvm.get_function_cfg(mod.get_function(fn.name))\n",
    "llvm.view_dot_graph(dot)"
   ]
  },
  {
   "cell_type": "markdown",
   "metadata": {},
   "source": [
    "Notice LLVM has optimized the looping away."
   ]
  }
 ],
 "metadata": {
  "@webio": {
   "lastCommId": null,
   "lastKernelId": null
  },
  "kernelspec": {
   "display_name": "Python 3",
   "language": "python",
   "name": "python3"
  },
  "language_info": {
   "codemirror_mode": {
    "name": "ipython",
    "version": 3
   },
   "file_extension": ".py",
   "mimetype": "text/x-python",
   "name": "python",
   "nbconvert_exporter": "python",
   "pygments_lexer": "ipython3",
   "version": "3.8.6"
  },
  "latex_envs": {
   "LaTeX_envs_menu_present": true,
   "autoclose": false,
   "autocomplete": true,
   "bibliofile": "biblio.bib",
   "cite_by": "apalike",
   "current_citInitial": 1,
   "eqLabelWithNumbers": true,
   "eqNumInitial": 1,
   "hotkeys": {
    "equation": "Ctrl-E",
    "itemize": "Ctrl-I"
   },
   "labels_anchors": false,
   "latex_user_defs": false,
   "report_style_numbering": false,
   "user_envs_cfg": false
  },
  "toc": {
   "base_numbering": 1,
   "nav_menu": {},
   "number_sections": true,
   "sideBar": true,
   "skip_h1_title": false,
   "title_cell": "Table of Contents",
   "title_sidebar": "Contents",
   "toc_cell": false,
   "toc_position": {},
   "toc_section_display": true,
   "toc_window_display": false
  }
 },
 "nbformat": 4,
 "nbformat_minor": 1
}
