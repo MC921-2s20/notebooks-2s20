{
 "cells": [
  {
   "cell_type": "markdown",
   "metadata": {},
   "source": [
    "# Practical Aspects of Compiler Construction. \n",
    "\n",
    "The goal of the practical part of this course is to write a complete\n",
    "compiler for uC (micro C) Language, designed exclusively for this\n",
    "purpose. uC has the essential features of a realistic programming\n",
    "language, but is small and simple enough that it can be implemented\n",
    "in a few thousand lines of code. We chose the Python programming\n",
    "language for this task because it has clear and direct syntax and\n",
    "allows for rapid prototyping. In addition, we will have at our\n",
    "disposal a wonderful combination of tools and code in Python that\n",
    "make compilers so cool."
   ]
  },
  {
   "cell_type": "markdown",
   "metadata": {},
   "source": [
    "<div style=\"text-align: right\">C is not a “very high level” language, nor a “big” one, and is not specialized to any particular area of application.<br/>\n",
    "But its absence of restrictions and its generality make it more convenient and effective for many tasks than supposedly more powerful languages.\"</div>\n",
    "<div style=\"text-align: right\">-- Kernighan and Ritchie</div>"
   ]
  },
  {
   "cell_type": "markdown",
   "metadata": {},
   "source": [
    "While you don’t need to be a Python wizard to complete the task, you\n",
    "should feel comfortable working with the language, and in particular\n",
    "should know how to program with classes. If you’d like a Python\n",
    "refresher, there are a bunch of useful links on the website to help you\n",
    "get up to speed.  I hope that the use of Python in this task doesn’t\n",
    "deter you from taking it.\n",
    "\n",
    "This task will revolve around several programming projects that taken\n",
    "together form a complete working compiler. You will learn how to put\n",
    "into practice the techniques presented in the theoretical part of this\n",
    "course and will study most of the details involved in the implementation\n",
    "of a \"real\" compiler."
   ]
  },
  {
   "cell_type": "markdown",
   "metadata": {},
   "source": [
    "## First Project: Lexer\n",
    "\n",
    "The first project requires you to implement a scanner for the uC language,\n",
    "specified by [uC BNF Grammar](./uC_Grammar.ipynb) notebook. Study the specification\n",
    "of uC grammar carefully. To complete this first project, you will use the\n",
    "[PLY](http://www.dabeaz.com/ply/), a Python version of the\n",
    "[lex/yacc](http://dinosaur.compilertools.net/) toolset with same functionality\n",
    "but with a friendlier interface. Details about this project are in the\n",
    "   [First Project](../P1-Lexer.ipynb) notebook."
   ]
  },
  {
   "cell_type": "markdown",
   "metadata": {},
   "source": [
    "## Second Project: Parser\n",
    "\n",
    "The second project requires you to implement a Parser (note that the Abstract Syntax Tree\n",
    "will be built only in the third project) for the uC language.\n",
    "To complete this second project, you will also use the [PLY](http://www.dabeaz.com/ply/),\n",
    "a Python version of the [lex/yacc](http://dinosaur.compilertools.net/) toolset with same\n",
    "functionality but with a friendlier interface. Details about this project are in the\n",
    "[Second Project](../P2-Parser.ipynb) notebook."
   ]
  },
  {
   "cell_type": "markdown",
   "metadata": {},
   "source": [
    "## Third Project: AST\n",
    "\n",
    "Abstract syntax trees are data structures that better represent the structure of the\n",
    "program code than the parse tree. An AST can be edited and enhanced with information\n",
    "such as properties and annotations for each element it contains. Your goal in this\n",
    "third project is to transform the parse tree into an AST. Details about this project\n",
    "are in the [Third Project](../P3-AST.ipynb) notebook."
   ]
  },
  {
   "cell_type": "markdown",
   "metadata": {},
   "source": [
    "## Fourth Project: Semantic Analysis\n",
    "\n",
    "Once syntax trees are built, additional analysis can be done by evaluating\n",
    "attributes on tree nodes to gather necessary semantic information from the\n",
    "source code not easily detected during parsing. It usually includes type\n",
    "checking, and symbol table construction. Details about this project\n",
    "are in the [Fourth Project](../P4-Semantic.ipynb) notebook."
   ]
  },
  {
   "cell_type": "markdown",
   "metadata": {},
   "source": [
    "## Fifth Project: Code Generation\n",
    "\n",
    "Once semantic analysis are done, we can walk through the decorated AST to generate a linear\n",
    "N-address code, analogously to [LLVM IR](https://llvm.org/docs/index.html). We call this\n",
    "intermediate machine code as uCIR. So, in this fifth project, you will turn the AST into\n",
    "uCIR. uCIR uses a Single Static Assignment (SSA), and can promote stack allocated scalars\n",
    "to virtual registers and remove the load and store operations, allowing better\n",
    "optimizations since values propagate directly to their use sites.  The main thing that\n",
    "distinguishes SSA from a conventional three-address code is that all assignments in SSA\n",
    "are for distinguished name variables.\n",
    "\n",
    "Once you've got your compiler emitting intermediate code, you should be able to use a\n",
    "simple interpreter, provided for this purpose, that runs the code.  This can be useful\n",
    "for testing, and other tasks involving the generated code. Details about this\n",
    "project are in the [Fifth Project](../P5-CodeGeneration.ipynb) notebook."
   ]
  },
  {
   "cell_type": "markdown",
   "metadata": {},
   "source": [
    "## Sixth Project: Data Flow Analysis & Optimization\n",
    "\n",
    "In this sixth project, you will do some analysis and optimizations in uCIR. First, you\n",
    "will implement the Reaching Definitions Analysis followed by the Constant Propagation\n",
    "Optimization. Then you will implement the Liveness Analysis followed by the Dead Code\n",
    "Optimization. Finally, you will implement an optimization called CFG Simplify. Details\n",
    "about this project are in the [Sixth Project](../P6-Dataflow.ipynb) notebook."
   ]
  },
  {
   "cell_type": "markdown",
   "metadata": {},
   "source": [
    "## Seventh Project: LLVM IR Code Generation\n",
    "\n",
    "In this last project, you're going to translate the optimized SSA intermediate\n",
    "representation uCIR into LLVM IR, the intermediate representation of LLVM that is\n",
    "partially specified in [LLVM Primer](./llvm_primer.ipynb). LLVM is a set of\n",
    "production-quality reusable libraries for building compilers. LLVM separates computer\n",
    "architectures from language issues and simplifies the design and portability of new\n",
    "compilers. Details about this project are in the [Seventh Project](../P7-LLVM-IR.ipynb)\n",
    "notebook."
   ]
  },
  {
   "cell_type": "markdown",
   "metadata": {},
   "source": [
    "# Readings\n",
    "\n",
    "The course website is available at https://akluz.wordpress.com/mc921-2s20/ and is loaded with\n",
    "resources for this course. There, you will find the project schedule, the slides for this\n",
    "course, additional class notes and articles presented in class. It can also contain useful\n",
    "links to learn more about the tools we will use (e.g., Python Lex and Yacc), the Python\n",
    "programming language and compilers in general."
   ]
  },
  {
   "cell_type": "markdown",
   "metadata": {},
   "source": [
    "# Late politics\n",
    "The programming projects in this course implement stages of the compilation process and,\n",
    "consequently, each task is based on the previous one. This means that if you start to fall\n",
    "behind in one of the tasks, it can be extremely difficult to get back on track again. That\n",
    "said, I fully understand that you may need extra time to complete each of the tasks. In\n",
    "that sense, you have five days overdue on the calendar that can be used in any of the\n",
    "assignments without penalty. I appreciate a warning so that I can expect your solution\n",
    "late. However, after using all five days late, your assignments will be penalized by 10%\n",
    "per day late; so try to deliver them on time! For logistical reasons, there are no\n",
    "permitted delays in delivering the final programming stage."
   ]
  },
  {
   "cell_type": "markdown",
   "metadata": {},
   "source": [
    "# Code of Honor\n",
    "\n",
    "This course allows students to work in pairs on programming tasks. However, the\n",
    "evaluations will be individual. Do not give another group's project as your own,\n",
    "or share your solution with other students. You should feel free to discuss programming\n",
    "projects with other groups, but all of the work you submit must be from your group.\n",
    "That is, you must implement your programming projects on your own. If you discuss ideas\n",
    "with other groups or students, that's fine, make a note of your submissions."
   ]
  }
 ],
 "metadata": {
  "kernelspec": {
   "display_name": "Python 3",
   "language": "python",
   "name": "python3"
  },
  "language_info": {
   "codemirror_mode": {
    "name": "ipython",
    "version": 3
   },
   "file_extension": ".py",
   "mimetype": "text/x-python",
   "name": "python",
   "nbconvert_exporter": "python",
   "pygments_lexer": "ipython3",
   "version": "3.8.2"
  },
  "latex_envs": {
   "LaTeX_envs_menu_present": true,
   "autoclose": false,
   "autocomplete": true,
   "bibliofile": "biblio.bib",
   "cite_by": "apalike",
   "current_citInitial": 1,
   "eqLabelWithNumbers": true,
   "eqNumInitial": 1,
   "hotkeys": {
    "equation": "Ctrl-E",
    "itemize": "Ctrl-I"
   },
   "labels_anchors": false,
   "latex_user_defs": false,
   "report_style_numbering": false,
   "user_envs_cfg": false
  },
  "toc": {
   "base_numbering": 1,
   "nav_menu": {},
   "number_sections": true,
   "sideBar": true,
   "skip_h1_title": false,
   "title_cell": "Table of Contents",
   "title_sidebar": "Contents",
   "toc_cell": false,
   "toc_position": {
    "height": "calc(100% - 180px)",
    "left": "10px",
    "top": "150px",
    "width": "254.261px"
   },
   "toc_section_display": true,
   "toc_window_display": true
  }
 },
 "nbformat": 4,
 "nbformat_minor": 4
}
