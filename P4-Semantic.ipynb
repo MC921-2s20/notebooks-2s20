{
 "cells": [
  {
   "cell_type": "markdown",
   "source": [
    "# Forth Project: Semantic Analysis\n",
    "\n",
    "Once syntax trees are built, additional analysis can be done by evaluating\n",
    "attributes on tree nodes to gather necessary semantic information from the\n",
    "source code not easily detected during parsing. It usually includes type\n",
    "checking, and symbol table construction to makes sure a variable is declared\n",
    "before use."
   ],
   "metadata": {
    "collapsed": false
   }
  },
  {
   "cell_type": "markdown",
   "source": [
    "## Program Checking\n",
    "First, you will need to define a symbol table that keeps track of\n",
    "previously declared identifiers.  The symbol table will be consulted\n",
    "whenever the compiler needs to lookup information about variable and\n",
    "constant declarations.\n",
    "\n",
    "Next, you will need to define objects that represent the different\n",
    "builtin data types and record information about their capabilities."
   ],
   "metadata": {
    "collapsed": false
   }
  },
  {
   "cell_type": "markdown",
   "source": [
    "### Type System\n",
    "Let's define classes that represent types.  There is a general class used to represent\n",
    "all types.  Each basic type is then a singleton instance of the type class.\n",
    "```\n",
    "class uCType(object):\n",
    "      pass\n",
    "\n",
    "int_type = uCType(\"int\",...)\n",
    "float_type = uCType(\"float\",...)\n",
    "char_type = uCType(\"char\", ...)\n",
    "```\n",
    "The contents of the type class is entirely up to you.  However, you will minimally need\n",
    "to encode some information about what operators are supported (+, -, *, etc.), and\n",
    "default values.\n",
    "\n",
    "Once you have defined the built-in types, you will need to make sure they get registered\n",
    "with any symbol tables or code that checks for type names."
   ],
   "metadata": {
    "collapsed": false
   }
  },
  {
   "cell_type": "code",
   "execution_count": null,
   "outputs": [],
   "source": [
    "class uCType(object):\n",
    "    '''\n",
    "    Class that represents a type in the uC language.  Basic\n",
    "    Types are declared as singleton instances of this type.\n",
    "    '''\n",
    "    def __init__(self, name, binary_ops=set(), unary_ops=set(),\n",
    "                 rel_ops=set(), assign_ops=set()):\n",
    "        '''\n",
    "        You must implement yourself and figure out what to store.\n",
    "        '''\n",
    "        self.typename = name\n",
    "        self.unary_ops = unary_ops\n",
    "        self.binary_ops = binary_ops\n",
    "        self.rel_ops = rel_ops\n",
    "        self.assign_ops = assign_ops\n",
    "\n",
    "# Create specific instances of basic types. You will need to add\n",
    "# appropriate arguments depending on your definition of uCType\n",
    "IntType = uCType(\"int\",\n",
    "                 unary_ops   = {\"-\", \"+\", \"--\", \"++\", \"p--\", \"p++\", \"*\", \"&\"},\n",
    "                 binary_ops  = {\"+\", \"-\", \"*\", \"/\", \"%\"},\n",
    "                 rel_ops     = {\"==\", \"!=\", \"<\", \">\", \"<=\", \">=\"},\n",
    "                 assign_ops  = {\"=\", \"+=\", \"-=\", \"*=\", \"/=\", \"%=\"}\n",
    "                 )\n",
    "\n",
    "FloatType = uCType(\"float\",\n",
    "                   ...\n",
    "    )\n",
    "CharType = uCType(\"char\",\n",
    "                   ...\n",
    "    )\n",
    "\n",
    "# Array, Pointer & Function types need to be instantiated for each declaration\n",
    "class ArrayType(uCType):\n",
    "    def __init__(self, element_type, size=None):\n",
    "       \"\"\"\n",
    "       type: Any of the uCTypes can be used as the array's type. This\n",
    "             means that there's support for nested types, like matrices.\n",
    "       size: Integer with the length of the array.\n",
    "       \"\"\"\n",
    "       self.type = element_type\n",
    "       self.size = size\n",
    "       super().__init__(None, unary_ops={\"*\", \"&\"}, rel_ops={\"==\", \"!=\"})\n",
    "\n",
    "..."
   ],
   "metadata": {
    "collapsed": false,
    "pycharm": {
     "name": "#%%\n"
    }
   }
  },
  {
   "cell_type": "markdown",
   "source": [
    "In your type checking code, you will need to reference the\n",
    "above type objects.   Think of how you will want to access\n",
    "them."
   ],
   "metadata": {
    "collapsed": false
   }
  },
  {
   "cell_type": "markdown",
   "source": [
    "### Visiting the AST\n",
    "The following classes for visiting the AST are taken from Python’s ast module:"
   ],
   "metadata": {
    "collapsed": false
   }
  },
  {
   "cell_type": "code",
   "execution_count": null,
   "outputs": [],
   "source": [
    "class NodeVisitor(object):\n",
    "    \"\"\" A base NodeVisitor class for visiting uc_ast nodes.\n",
    "        Subclass it and define your own visit_XXX methods, where\n",
    "        XXX is the class name you want to visit with these\n",
    "        methods.\n",
    "\n",
    "        For example:\n",
    "\n",
    "        class ConstantVisitor(NodeVisitor):\n",
    "            def __init__(self):\n",
    "                self.values = []\n",
    "\n",
    "            def visit_Constant(self, node):\n",
    "                self.values.append(node.value)\n",
    "\n",
    "        Creates a list of values of all the constant nodes\n",
    "        encountered below the given node. To use it:\n",
    "\n",
    "        cv = ConstantVisitor()\n",
    "        cv.visit(node)\n",
    "\n",
    "        Notes:\n",
    "\n",
    "        *   generic_visit() will be called for AST nodes for which\n",
    "            no visit_XXX method was defined.\n",
    "        *   The children of nodes for which a visit_XXX was\n",
    "            defined will not be visited - if you need this, call\n",
    "            generic_visit() on the node.\n",
    "            You can use:\n",
    "                NodeVisitor.generic_visit(self, node)\n",
    "        *   Modeled after Python's own AST visiting facilities\n",
    "            (the ast module of Python 3.0)\n",
    "    \"\"\"\n",
    "\n",
    "    _method_cache = None\n",
    "\n",
    "    def visit(self, node):\n",
    "        \"\"\" Visit a node.\n",
    "        \"\"\"\n",
    "\n",
    "        if self._method_cache is None:\n",
    "            self._method_cache = {}\n",
    "\n",
    "        visitor = self._method_cache.get(node.__class__.__name__, None)\n",
    "        if visitor is None:\n",
    "            method = 'visit_' + node.__class__.__name__\n",
    "            visitor = getattr(self, method, self.generic_visit)\n",
    "            self._method_cache[node.__class__.__name__] = visitor\n",
    "\n",
    "        return visitor(node)\n",
    "\n",
    "    def generic_visit(self, node):\n",
    "        \"\"\" Called if no explicit visitor function exists for a\n",
    "            node. Implements preorder visiting of the node.\n",
    "        \"\"\"\n",
    "        for c in node:\n",
    "            self.visit(c)"
   ],
   "metadata": {
    "collapsed": false,
    "pycharm": {
     "name": "#%%\n"
    }
   }
  },
  {
   "cell_type": "markdown",
   "source": [
    "### Semantic Rules"
   ],
   "metadata": {
    "collapsed": false
   }
  },
  {
   "cell_type": "markdown",
   "source": [
    "Finally, you'll need to write code that walks the AST and enforces\n",
    "a set of semantic rules.  Here is a complete list of everything you'll\n",
    "need to check:"
   ],
   "metadata": {
    "collapsed": false
   }
  },
  {
   "cell_type": "markdown",
   "source": [
    "1.  Names and symbols:\n",
    "\n",
    "    All identifiers must be defined before they are used.  This includes variables &\n",
    "    functions.  For example, this kind of code generates an error:\n",
    "```\n",
    "       a = 3;              // Error. 'a' not defined.\n",
    "       int a;\n",
    "```\n",
    "    Note: typenames such as \"int\", \"float\", and \"char\" are built-in names that\n",
    "    should be defined at the start of the program."
   ],
   "metadata": {
    "collapsed": false
   }
  },
  {
   "cell_type": "markdown",
   "source": [
    "2.  Types of literals\n",
    "\n",
    "    All literal symbols must be assigned a type of \"int\", \"float\", \"char\" or \"string\".  \n",
    "    For example:\n",
    "```\n",
    "       42;         // Type \"int\"\n",
    "       4.2;        // Type \"float\"\n",
    "       'x';        // Type \"char\"\n",
    "       \"forty\";    // Type \"string\"\n",
    "```\n",
    "    To do this assignment, check the Python type of the literal value and attach\n",
    "    a type name as appropriate."
   ],
   "metadata": {
    "collapsed": false
   }
  },
  {
   "cell_type": "markdown",
   "source": [
    "3.  Binary operator type checking\n",
    "\n",
    "    Binary operators only operate on operands of the same type and produce a\n",
    "    result of the same type.   Otherwise, you get a type error.  For example:\n",
    "```\n",
    "        int a = 2;\n",
    "        float b = 3.14;\n",
    "\n",
    "        int c = a + 3;    // OK\n",
    "        int d = a + b;    // Error.  int + float\n",
    "        int e = b + 4.5;  // Error.  int = float\n",
    "```"
   ],
   "metadata": {
    "collapsed": false
   }
  },
  {
   "cell_type": "markdown",
   "source": [
    "4.  Unary operator type checking.\n",
    "```\n",
    "    Unary operators return a result that's the same type as the operand.\n",
    "```"
   ],
   "metadata": {
    "collapsed": false
   }
  },
  {
   "cell_type": "markdown",
   "source": [
    "5.  Supported operators\n",
    "\n",
    "    Here are the some examples of operators supported by each type:\n",
    "```\n",
    "    int:      binary_ops { +, -, *, /}, unary_ops { +, -}\n",
    "    float:    rel_ops { ==, !=, <, <=}, assign_ops { +=, -=}\n",
    "```\n",
    "    Attempts to use unsupported operators should result in an error. \n",
    "    For example:\n",
    "```\n",
    "        char a[] = \"Hello\" + \"World\";     // OK\n",
    "        char b[] = \"Hello\" * \"World\";     // Error (unsupported op *)\n",
    "```"
   ],
   "metadata": {
    "collapsed": false
   }
  },
  {
   "cell_type": "markdown",
   "source": [
    "6.  Assignment, indexing, etc.\n",
    "\n",
    "    The left and right hand sides of an assignment operation must be\n",
    "    declared as the same type. The size os objects must match. The index of an array must be of type int, etc.\n",
    "    See the examples below:\n",
    "    ```\n",
    "    int v[4] = {1, 2, 3};     // Error (size mismatch on initialization)\n",
    "    float f;\n",
    "    int j = v[f];             // Error (array index must be of type int)\n",
    "    j = f;                    // Error (canot assign float to int)\n",
    "    ```\n",
    "    However, string literals can be assigned to array of chars. See the example below\n",
    "    ```\n",
    "    char c[] = \"Susy\";        // Ok\n",
    "    ```\n",
    "    In this case, the size of ```c``` must be inferred from the initialization\n",
    "\n",
    "For walking the AST, use the NodeVisitor class. A shell of the code is provided below. Use it as a guide.\n"
   ],
   "metadata": {
    "collapsed": false
   }
  },
  {
   "cell_type": "code",
   "execution_count": null,
   "outputs": [],
   "source": [
    "class SymbolTable(object):\n",
    "    '''\n",
    "    Class representing a symbol table.  It should provide functionality\n",
    "    for adding and looking up nodes associated with identifiers.\n",
    "    '''\n",
    "    def __init__(self):\n",
    "        self.symtab = {}\n",
    "    def lookup(self, a):\n",
    "        return self.symtab.get(a)\n",
    "    def add(self, a, v):\n",
    "        self.symtab[a] = v\n",
    "\n",
    "class Visitor(NodeVisitor):\n",
    "    '''\n",
    "    Program visitor class. This class uses the visitor pattern. You need to define methods\n",
    "    of the form visit_NodeName() for each kind of AST node that you want to process.\n",
    "    Note: You will need to adjust the names of the AST nodes if you picked different names.\n",
    "    '''\n",
    "    def __init__(self):\n",
    "        # Initialize the symbol table\n",
    "        self.symtab = SymbolTable()\n",
    "\n",
    "        # Add built-in type names (int, float, char) to the symbol table\n",
    "        self.symtab.add(\"int\",uctype.int_type)\n",
    "        self.symtab.add(\"float\",uctype.float_type)\n",
    "        self.symtab.add(\"char\",uctype.char_type)\n",
    "\n",
    "    def visit_Program(self,node):\n",
    "        # 1. Visit all of the global declarations\n",
    "        # 2. Record the associated symbol table\n",
    "        for _decl in node.gdecls:\n",
    "            self.visit(_decl)\n",
    "\n",
    "    def visit_BinaryOp(self, node):\n",
    "        # 1. Make sure left and right operands have the same type\n",
    "        # 2. Make sure the operation is supported\n",
    "        # 3. Assign the result type\n",
    "        self.visit(node.left)\n",
    "        self.visit(node.right)\n",
    "        node.type = node.left.type\n",
    "\n",
    "    def visit_Assignment(self, node):\n",
    "        ## 1. Make sure the location of the assignment is defined\n",
    "        sym = self.symtab.lookup(node.location)\n",
    "        assert sym, \"Assigning to unknown sym\"\n",
    "        ## 2. Check that the types match\n",
    "        self.visit(node.value)\n",
    "        assert sym.type == node.value.type, \"Type mismatch in assignment\"\n"
   ],
   "metadata": {
    "collapsed": false,
    "pycharm": {
     "name": "#%%\n"
    }
   }
  }
 ],
 "metadata": {
  "@webio": {
   "lastCommId": null,
   "lastKernelId": null
  },
  "kernelspec": {
   "display_name": "Python 3",
   "language": "python",
   "name": "python3"
  },
  "language_info": {
   "codemirror_mode": {
    "name": "ipython",
    "version": 3
   },
   "file_extension": ".py",
   "mimetype": "text/x-python",
   "name": "python",
   "nbconvert_exporter": "python",
   "pygments_lexer": "ipython3",
   "version": "3.8.5"
  },
  "latex_envs": {
   "LaTeX_envs_menu_present": true,
   "autoclose": false,
   "autocomplete": true,
   "bibliofile": "biblio.bib",
   "cite_by": "apalike",
   "current_citInitial": 1,
   "eqLabelWithNumbers": true,
   "eqNumInitial": 1,
   "hotkeys": {
    "equation": "Ctrl-E",
    "itemize": "Ctrl-I"
   },
   "labels_anchors": false,
   "latex_user_defs": false,
   "report_style_numbering": false,
   "user_envs_cfg": false
  },
  "toc": {
   "base_numbering": 1,
   "nav_menu": {},
   "number_sections": true,
   "sideBar": true,
   "skip_h1_title": false,
   "title_cell": "Table of Contents",
   "title_sidebar": "Contents",
   "toc_cell": false,
   "toc_position": {},
   "toc_section_display": true,
   "toc_window_display": false
  }
 },
 "nbformat": 4,
 "nbformat_minor": 2
}