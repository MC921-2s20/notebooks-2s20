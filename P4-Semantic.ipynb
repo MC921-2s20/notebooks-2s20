{
 "cells": [
  {
   "cell_type": "markdown",
   "metadata": {},
   "source": [
    "# Forth Project: Semantic Analysis\n",
    "\n",
    "Once syntax trees are built, additional analysis can be done by evaluating\n",
    "attributes on tree nodes to gather necessary semantic information from the\n",
    "source code not easily detected during parsing. It usually includes type\n",
    "checking, symbol table construction to makes sure a variable is declared\n",
    "before use, and decorating the AST to prepare it for the next compilation phase."
   ]
  },
  {
   "cell_type": "markdown",
   "metadata": {},
   "source": [
    "## Type System\n",
    "\n",
    "First, you will need to define objects that represent the different\n",
    "builtin data types and record information about their capabilities.\n",
    "\n",
    "Let's define classes that represent types.  There is a general class used to represent\n",
    "all types.  Each basic type is then a singleton instance of the type class.\n",
    "```python\n",
    "class uCType:\n",
    "      pass\n",
    "\n",
    "int_type = uCType(\"int\", ...)\n",
    "float_type = uCType(\"float\", ...)\n",
    "char_type = uCType(\"char\", ...)\n",
    "```\n",
    "The contents of the type class is entirely up to you.  However, you will minimally need\n",
    "to encode some information about what operators are supported (+, -, *, etc.), and\n",
    "default values.\n",
    "\n",
    "Once you have defined the built-in types, you will need to make sure they get registered\n",
    "with any symbol tables or code that checks for type names."
   ]
  },
  {
   "cell_type": "code",
   "execution_count": 4,
   "metadata": {
    "pycharm": {
     "name": "#%%\n"
    }
   },
   "outputs": [],
   "source": [
    "class uCType:\n",
    "    '''\n",
    "    Class that represents a type in the uC language.  Basic\n",
    "    Types are declared as singleton instances of this type.\n",
    "    '''\n",
    "    def __init__(self, name, binary_ops=set(), unary_ops=set(),\n",
    "                 rel_ops=set(), assign_ops=set()):\n",
    "        '''\n",
    "        You must implement yourself and figure out what to store.\n",
    "        '''\n",
    "        self.typename = name\n",
    "        self.unary_ops = unary_ops\n",
    "        self.binary_ops = binary_ops\n",
    "        self.rel_ops = rel_ops\n",
    "        self.assign_ops = assign_ops\n",
    "\n",
    "# Create specific instances of basic types. You will need to add\n",
    "# appropriate arguments depending on your definition of uCType\n",
    "IntType = uCType(\"int\",\n",
    "                 unary_ops   = {\"-\", \"+\", \"--\", \"++\", \"p--\", \"p++\", \"*\", \"&\"},\n",
    "                 binary_ops  = {\"+\", \"-\", \"*\", \"/\", \"%\"},\n",
    "                 rel_ops     = {\"==\", \"!=\", \"<\", \">\", \"<=\", \">=\"},\n",
    "                 assign_ops  = {\"=\", \"+=\", \"-=\", \"*=\", \"/=\", \"%=\"}\n",
    "                 )\n",
    "\n",
    "FloatType = uCType(\"float\",\n",
    "                   # TODO: Complete\n",
    "    )\n",
    "CharType = uCType(\"char\",\n",
    "                  # TODO: Complete\n",
    "    )\n",
    "\n",
    "# Array, Pointer & Function types need to be instantiated for each declaration\n",
    "class ArrayType(uCType):\n",
    "    def __init__(self, element_type, size=None):\n",
    "       \"\"\"\n",
    "       type: Any of the uCTypes can be used as the array's type. This\n",
    "             means that there's support for nested types, like matrices.\n",
    "       size: Integer with the length of the array.\n",
    "       \"\"\"\n",
    "       self.type = element_type\n",
    "       self.size = size\n",
    "       super().__init__(None, unary_ops={\"*\", \"&\"}, rel_ops={\"==\", \"!=\"})\n",
    "\n",
    "# TODO: Complete"
   ]
  },
  {
   "cell_type": "markdown",
   "metadata": {},
   "source": [
    "In your type checking code, you will need to reference the\n",
    "above type objects.   Think of how you will want to access\n",
    "them."
   ]
  },
  {
   "cell_type": "markdown",
   "metadata": {},
   "source": [
    "## Symbol table\n",
    "\n",
    "Then, you will need to define a symbol table that keeps track of\n",
    "previously declared identifiers.  The symbol table will be consulted\n",
    "whenever the compiler needs to lookup information about variable and\n",
    "constant declarations.\n",
    "\n"
   ]
  },
  {
   "cell_type": "code",
   "execution_count": 2,
   "metadata": {},
   "outputs": [],
   "source": [
    "class SymbolTable(dict):\n",
    "    \"\"\" Class representing a symbol table. It should provide functionality\n",
    "        for adding and looking up nodes associated with identifiers.\n",
    "    \"\"\"\n",
    "    def __init__(self):\n",
    "        super().__init__()\n",
    "\n",
    "    def add(self, name, value):\n",
    "        self[name] = value\n",
    "\n",
    "    def lookup(self, name):\n",
    "        return self.get(name, None)"
   ]
  },
  {
   "cell_type": "markdown",
   "metadata": {},
   "source": [
    "Notice that the semantic analysis will have to manage the symbol table in order to handle the multiple scopes of the program."
   ]
  },
  {
   "cell_type": "markdown",
   "metadata": {},
   "source": [
    "## Visiting the AST\n",
    "\n",
    "The visitor pattern is often used in compiler to traverse data structures that represent the programs, either syntax \n",
    "tree or any other intermediate representations. For this purpose, we provide the following `NodeVisitor` class to \n",
    "allow you to visit the AST. This class was modeled after Python's own AST visiting facilities (the ast module of Python 3)."
   ]
  },
  {
   "cell_type": "code",
   "execution_count": 2,
   "metadata": {
    "pycharm": {
     "name": "#%%\n"
    }
   },
   "outputs": [],
   "source": [
    "class NodeVisitor:\n",
    "    \"\"\" A base NodeVisitor class for visiting uc_ast nodes.\n",
    "        Subclass it and define your own visit_XXX methods, where\n",
    "        XXX is the class name you want to visit with these\n",
    "        methods.\n",
    "    \"\"\"\n",
    "\n",
    "    _method_cache = None\n",
    "\n",
    "    def visit(self, node):\n",
    "        \"\"\" Visit a node.\n",
    "        \"\"\"\n",
    "\n",
    "        if self._method_cache is None:\n",
    "            self._method_cache = {}\n",
    "\n",
    "        visitor = self._method_cache.get(node.__class__.__name__, None)\n",
    "        if visitor is None:\n",
    "            method = 'visit_' + node.__class__.__name__\n",
    "            visitor = getattr(self, method, self.generic_visit)\n",
    "            self._method_cache[node.__class__.__name__] = visitor\n",
    "\n",
    "        return visitor(node)\n",
    "\n",
    "    def generic_visit(self, node):\n",
    "        \"\"\" Called if no explicit visitor function exists for a\n",
    "            node. Implements preorder visiting of the node.\n",
    "        \"\"\"\n",
    "        for _, child in node.children():\n",
    "            self.visit(child)"
   ]
  },
  {
   "cell_type": "markdown",
   "metadata": {},
   "source": [
    "For example, a small visitor for constant can be implemented this way:\n",
    "\n",
    "```python\n",
    "class ConstantVisitor(NodeVisitor):\n",
    "    def __init__(self):\n",
    "        self.values = []\n",
    "\n",
    "    def visit_Constant(self, node):\n",
    "        self.values.append(node.value)\n",
    "```\n",
    "\n",
    "This visitor would create a list of values of all the constant nodes encountered below the given node. To use it, simply instantiate the visitor and call its visit method on the node of your choice:\n",
    "\n",
    "```python\n",
    "cv = ConstantVisitor()\n",
    "cv.visit(node)\n",
    "```\n",
    "\n",
    "Note that:\n",
    "*   The `generic_visit()` method will be called for AST nodes for which no `visit_XXX` method was defined.\n",
    "*   The children of nodes for which a `visit_XXX` method was defined will not be visited - if you need this, call\n",
    "    `generic_visit()` on the node.\n",
    "*   The `generic_visit()` method could be implemented more efficiently by defining AST nodes as iterable object using \n",
    "    the `__iter__()` method of Python. Feel free to optimize "
   ]
  },
  {
   "cell_type": "markdown",
   "metadata": {},
   "source": [
    "## Standardized Errors\n",
    "\n",
    "To check for semantic errors and to print their description, the following method should be used:"
   ]
  },
  {
   "cell_type": "code",
   "execution_count": null,
   "metadata": {},
   "outputs": [],
   "source": [
    "    def _assert_semantic(self, condition, msg_code, coord, name=\"\", ltype=\"\", rtype=\"\"):\n",
    "        \"\"\"Check condition, if false print selected error message and exit\"\"\"\n",
    "        error_msgs = {\n",
    "            1: f\"{name} is not defined\",\n",
    "            2: f\"{ltype} must be of type(int)\",\n",
    "            3: \"Expression must be of type(bool)\",\n",
    "            4: f\"Cannot assign {rtype} to {ltype}\",\n",
    "            5: f\"Assignment operator {name} is not supported by {ltype}\",\n",
    "            6: f\"Binary operator {name} does not have matching LHS/RHS types\",\n",
    "            7: f\"Binary operator {name} is not supported by {ltype}\",\n",
    "            8: \"Break statement must be inside a loop\",\n",
    "            9: \"Array dimension mismatch\",\n",
    "            10: f\"Size mismatch on {name} initialization\",\n",
    "            11: f\"{name} initialization type mismatch\",\n",
    "            12: f\"{name} initialization must be a single element\",\n",
    "            13: \"Lists have different sizes\",\n",
    "            14: \"List & variable have different sizes\",\n",
    "            15: f\"conditional expression is {ltype}, not type(bool)\",\n",
    "            16: f\"{name} is not a function\",\n",
    "            17: f\"no. arguments to call {name} function mismatch\",\n",
    "            18: f\"Type mismatch with parameter {name}\",\n",
    "            19: \"The condition expression must be of type(bool)\",\n",
    "            20: \"Expression must be a constant\",\n",
    "            21: \"Expression is not of basic type\",\n",
    "            22: f\"{name} does not reference a variable of basic type\",\n",
    "            23: f\"\\n{name}\\nIs not a variable\",\n",
    "            24: f\"Return of {ltype} is incompatible with {rtype} function definition\",\n",
    "            25: f\"Name {name} is already defined in this scope\",\n",
    "            26: f\"Unary operator {name} is not supported\",\n",
    "            27: \"Undefined error\",\n",
    "        }\n",
    "        if not condition:\n",
    "            msg = error_msgs.get(msg_code)\n",
    "            print(\"SemanticError: %s %s\" % (msg, coord), file=sys.stdout)\n",
    "            sys.exit(1)"
   ]
  },
  {
   "cell_type": "markdown",
   "metadata": {},
   "source": [
    "As shown in the function code, each message is associated to a specific error code. The error message is printed according to the given coordinate and facultative arguments. The `_assert_semantic` method is used to standardize the output of the semantic analysis and must be used to pass the automatic tests. Some examples showing how to use the method are provided in the next section."
   ]
  },
  {
   "cell_type": "markdown",
   "metadata": {},
   "source": [
    "## Implementing the analysis\n",
    "\n",
    "Finally, you'll need to write code that walks the AST, decorates it with additional information and enforces a set of\n",
    "semantic rules as explained by the guidelines below. For walking the AST, use the NodeVisitor class. An initial\n",
    "implementation of the semantic analysis is provided in the code below."
   ]
  },
  {
   "cell_type": "code",
   "execution_count": 16,
   "metadata": {
    "pycharm": {
     "name": "#%%\n"
    }
   },
   "outputs": [],
   "source": [
    "class Visitor(NodeVisitor):\n",
    "    '''\n",
    "    Program visitor class. This class uses the visitor pattern. You need to define methods\n",
    "    of the form visit_NodeName() for each kind of AST node that you want to process.\n",
    "    '''\n",
    "    def __init__(self):\n",
    "        # Initialize the symbol table\n",
    "        self.symtab = SymbolTable()\n",
    "\n",
    "        # Add built-in type names (int, float, char)\n",
    "        self.typemap = {\n",
    "            \"int\": IntType,\n",
    "            \"float\": FloatType,\n",
    "            \"char\": CharType,\n",
    "            # TODO\n",
    "        }\n",
    "        \n",
    "        # TODO: Complete...\n",
    "\n",
    "    def visit_Program(self, node):\n",
    "        # Visit all of the global declarations\n",
    "        for _decl in node.gdecls:\n",
    "            self.visit(_decl)\n",
    "        # TODO: Manage the symbol table\n",
    "\n",
    "    def visit_BinaryOp(self,node):\n",
    "        # Visit the left and right expression\n",
    "        self.visit(node.left)\n",
    "        ltype = node.left.uc_type\n",
    "        self.visit(node.right)\n",
    "        rtype = node.right.uc_type\n",
    "        # TODO: \n",
    "        # - Make sure left and right operands have the same type\n",
    "        # - Make sure the operation is supported\n",
    "        # - Assign the result type to current node\n",
    "        \n",
    "    def visit_Assignment(self, node):\n",
    "        # visit right side\n",
    "        self.visit(node.rvalue)\n",
    "        rtype = node.rvalue.uc_type\n",
    "        # visit left side (must be a location)\n",
    "        _var = node.lvalue\n",
    "        self.visit(_var)\n",
    "        if isinstance(_var, ID):\n",
    "            self._assert_semantic(_var.scope is not None, 1, node.coord, name=_var.name)\n",
    "        ltype = node.lvalue.uc_type\n",
    "        # Check that assignment is allowed\n",
    "        self._assert_semantic(ltype == rtype, 4, node.coord, ltype=ltype, rtype=rtype)\n",
    "        # Check that assign_ops is supported by the type\n",
    "        self._assert_semantic(node.op in ltype.assign_ops, 5, node.coord, name=node.op, ltype=ltype)"
   ]
  },
  {
   "cell_type": "markdown",
   "metadata": {},
   "source": [
    "__IMPORTANT:__ The AST you built previously only contains information (like types) at specific nodes. Beside finding the possible remaining errors of the program, the semantic analysis should be used to figure out additional information (such as typing all expressions) which will be useful for code generation, the next compilation phase.  This process is usally called \"decorating the AST\"."
   ]
  },
  {
   "cell_type": "markdown",
   "metadata": {},
   "source": [
    "## Guidelines\n",
    "\n",
    "Additionnally, we provide a set of guidelines that can be used to implement each function of the semantic analysis \n",
    "(type checking, definition checking, etc). Please read those carefully.\n",
    "   \n",
    "### Program / Functions\n",
    "\n",
    "1. Program (`visit_Program`)\n",
    "\n",
    "Visit all of the global declarations. Record the associated symbol table."
   ]
  },
  {
   "cell_type": "markdown",
   "metadata": {},
   "source": [
    "2. Function Definition (`visit_FuncDef`)\n",
    "\n",
    "Initialize the list of declarations that appears inside loops. Save the reference to current function.\n",
    "    \n",
    "Visit the return type of the Function, the function declaration, the parameters, and the function body."
   ]
  },
  {
   "cell_type": "markdown",
   "metadata": {},
   "source": [
    "3. Parameter list (`visit_ParamList`)\n",
    "\n",
    "Just visit all parameters."
   ]
  },
  {
   "cell_type": "markdown",
   "metadata": {},
   "source": [
    "### Declarations / Type\n",
    "\n",
    "1. Global Declaration (`visit_GlobalDecl`)\n",
    "\n",
    "Just visit each global declaration. "
   ]
  },
  {
   "cell_type": "markdown",
   "metadata": {},
   "source": [
    "2. Declaration (`visit_Decl`)\n",
    "\n",
    "Visit the types of the declaration (VarDecl, ArrayDecl, FuncDecl). Check if the function or the variable is defined,\n",
    "otherwise return an error. If there is an initial value defined, visit it."
   ]
  },
  {
   "cell_type": "markdown",
   "metadata": {},
   "source": [
    "3. Variable Declaration (`visit_VarDecl`)\n",
    "\n",
    "First visit the type to adjust the list of types to uCType objects. Then, get the name of variable and make sure it is\n",
    "not defined in the current scope, otherwise return an error. Next, insert its identifier in the symbol table. Finally,\n",
    "copy the type to the identifier."
   ]
  },
  {
   "cell_type": "markdown",
   "metadata": {},
   "source": [
    "4. Array Declaration (`visit_ArrayDecl`)\n",
    "\n",
    "First visit the type to adjust the list of types to uCType objects. Array is a modifier type, so append this info in\n",
    "the ID object. Visit the array dimension if defined else the dim will be infered after visit initialization in Decl\n",
    "object."
   ]
  },
  {
   "cell_type": "markdown",
   "metadata": {},
   "source": [
    "5. Function Declaration (`visit_FuncDecl`)\n",
    "\n",
    "Start by visiting the type. Add the function to the symbol table. Then, visit the arguments. Create the type of the\n",
    "function using its return type and the type of its arguments."
   ]
  },
  {
   "cell_type": "markdown",
   "metadata": {},
   "source": [
    "6. Declaration List (`visit_DeclList`)\n",
    "\n",
    "Visit all of the declarations that appear inside the statement. Append the declaration to the list of decls in the\n",
    "current function. This list will be used by the code generation to allocate the variables."
   ]
  },
  {
   "cell_type": "markdown",
   "metadata": {},
   "source": [
    "7. Type (`visit_Type`)\n",
    "\n",
    "Get the matching basic uCType."
   ]
  },
  {
   "cell_type": "markdown",
   "metadata": {},
   "source": [
    "### Statements\n",
    "\n",
    "1. If Block (`visit_If`)\n",
    "\n",
    "First, visit the condition. Then, check if the conditional expression is of boolean type or return a type error.\n",
    "Finally, visit the statements related to the *then*, and to the *else* (in case there are any).\n",
    "    \n",
    "```c\n",
    "if(3.1) { } // Error. Conditional expression should be of type boolean.\n",
    "```"
   ]
  },
  {
   "cell_type": "markdown",
   "metadata": {},
   "source": [
    "2. For Block (`visit_For`)\n",
    "\n",
    "First, append the current loop node to the dedicated list attribute used to bind the node to nested break statement.\n",
    "Then, visit the initialization, the condition and check if the conditional expression is of boolean type or return a\n",
    "type error. Next, visit the increment (`next`) and the body of the loop (`stmt`)."
   ]
  },
  {
   "cell_type": "markdown",
   "metadata": {},
   "source": [
    "3. While Block (`visit_While`)\n",
    "\n",
    "First, append the current loop node to the dedicated list attribute used to bind the node to nested break statement.\n",
    "Then, visit the condition and check if the conditional expression is of boolean type or return a type error. Finally,\n",
    "visit the body of the while (`stmt`)."
   ]
  },
  {
   "cell_type": "markdown",
   "metadata": {},
   "source": [
    "4. Compound Statement (`visit_Compound`)\n",
    "\n",
    "Visit the list of block items (declarations or statements)."
   ]
  },
  {
   "cell_type": "markdown",
   "metadata": {},
   "source": [
    "5. Assignement (`visit_Assignment`)\n",
    "\n",
    "Visit the right side. Visit the left side. The left side must have been defined previously or return an error. Check\n",
    "that the assignment is allowed otherwise return a type error: the left and right hand sides of an assignment operation\n",
    "must be declared as the same type. Check that assign_ops is supported by the type or return an error, attempts to use\n",
    "unsupported operators should result in an error.\n",
    "\n",
    "Here is the exhaustive list of operators supported by each type:\n",
    "```python\n",
    "    # int:\n",
    "        assign_ops  = {\"=\", \"+=\", \"-=\", \"*=\", \"/=\", \"%=\"}\n",
    "\n",
    "    # float:\n",
    "        assign_ops = {\"=\", \"+=\", \"-=\", \"*=\", \"/=\", \"%=\"}\n",
    "\n",
    "    # char:\n",
    "        assign_ops  = {\"=\"}\n",
    "\n",
    "    # bool:\n",
    "        assign_ops  = {\"=\"}\n",
    "\n",
    "    # array:\n",
    "        assign_ops  = {\"=\"}\n",
    "```\n",
    "\n",
    "See the example below:\n",
    "```c\n",
    "float f = 0.3;\n",
    "int j = f;             // Error: Cannot assign type(float) to type(int)\n",
    "```"
   ]
  },
  {
   "cell_type": "markdown",
   "metadata": {},
   "source": [
    "6. Break (`visit_Break`)\n",
    "\n",
    "Check the Break statement is inside a loop. If not, it must return an error. Bind it to the current loop node.\n",
    "\n",
    "7. Funcion Call (`visit_FuncCall`)\n",
    "\n",
    "Verify that the given name is a function, or return an error if it is not. Initialize the node type and name\n",
    "using the symbole table. Check that the number and the type of the arguments correspond to\n",
    "the parameters in the function definition or return an error.\n",
    "\n",
    "8. Assert (`visit_Assert`)\n",
    "\n",
    "Visit the expression and verify it is of boolean type or return a type error.\n",
    "\n",
    "9. Empty Statement (`visit_EmptyStatement`)\n",
    "\n",
    "Do nothing, just `pass`.\n",
    "\n",
    "10. Print (`visit_Print`)\n",
    "\n",
    "Just visit each expression and check if it is of basic type. Returns an error otherwise.\n",
    "\n",
    "11. Read (`visit_Read`)\n",
    "\n",
    "Visit each name and verify that all identifiers used have been defined and are variables.\n",
    "\n",
    "12. Return (`visit_Return`)\n",
    "\n",
    "Visit the expression and check that its type is identical to the return type of the function definition.\n",
    "\n",
    "\n",
    "### Expressions\n",
    "\n",
    "1. Constant (`visit_Constant`)\n",
    "\n",
    "Get the matching uCType and convert the value to respective type.\n",
    "\n",
    "2. Identifier (`visit_ID`)\n",
    "\n",
    "Look for its declaration in the symbol table and bind the ID to it.\n",
    "Also, initialize the type, kind, and scope attributes.\n",
    "\n",
    "2. Cast operation (`visit_Cast`)\n",
    "\n",
    "Visit the expression and the targeted type (`to_type`). Then initialize the node type accordingly.\n",
    "\n",
    "3. Binary Operation (`visit_BinaryOp`)\n",
    "\n",
    "Start by visiting each operands of the operation. Verify that both operands have the same\n",
    "type or return a type error. Verify the operator of the binary operation is compatible with the operands type,\n",
    "attempts to use unsupported operators should result in an error. Binary operations using arithmetic operator\n",
    "produce a result of the same type than the operands. Binary operations using relational operator produce\n",
    "boolean type. Otherwise, you get a type error. Set the type of the current node representing the binary operation.\n",
    "    \n",
    "Here is the exhaustive list of operators supported by each type:\n",
    "```python\n",
    "    # int:\n",
    "        binary_ops  = {\"+\", \"-\", \"*\", \"/\", \"%\"}\n",
    "        rel_ops     = {\"==\", \"!=\", \"<\", \">\", \"<=\", \">=\"}\n",
    "\n",
    "    # float:\n",
    "        binary_ops = {\"+\", \"-\", \"*\", \"/\", \"%\"}\n",
    "        rel_ops    = {\"==\", \"!=\", \"<\", \">\", \"<=\", \">=\"}\n",
    "\n",
    "    # char:\n",
    "        rel_ops     = {\"==\", \"!=\", \"&&\", \"||\"}\n",
    "\n",
    "    # bool:\n",
    "        rel_ops     = {\"==\", \"!=\", \"&&\", \"||\"}\n",
    "\n",
    "    # array:\n",
    "        rel_ops     = {\"==\", \"!=\"}\n",
    "\n",
    "    # string:\n",
    "        rel_ops     = {\"==\", \"!=\"}\n",
    "```\n",
    "    \n",
    "For example:\n",
    "```c\n",
    "        int a = 2;\n",
    "        float b = 3.14;\n",
    "\n",
    "        int c = a + 3;    // OK\n",
    "        int d = a + b;    // Error.  int + float\n",
    "        int e = b + 4.5;  // Error.  int = float\n",
    "        char a[] = \"Hello\" + \"World\";     // OK\n",
    "        char b[] = \"Hello\" * \"World\";     // Error: unsupported op *\n",
    "```"
   ]
  },
  {
   "cell_type": "markdown",
   "metadata": {},
   "source": [
    "4. Unary Operation (`visit_UnaryOp`)\n",
    "\n",
    "Start by visiting the operand of the operation. Verify the operator of the operation is\n",
    "compatible with the operand type, attempts to use unsupported operators should result in\n",
    "an error. Set the type of the current node representing the unary operation with the same\n",
    "type as the operand.\n",
    "\n",
    "Here is the exhaustive list of operators supported by each type:\n",
    "```python\n",
    "    # int:\n",
    "        unary_ops   = {\"-\", \"+\", \"--\", \"++\", \"p--\", \"p++\"}   # where p stands for postfix\n",
    "\n",
    "    # float:\n",
    "        unary_ops  = {\"-\", \"+\", \"*\", \"&\"}\n",
    "\n",
    "    # bool:\n",
    "        unary_ops   = {\"!\"}\n",
    "```"
   ]
  },
  {
   "cell_type": "markdown",
   "metadata": {},
   "source": [
    "5. Expression List (`visit_ExprList`)\n",
    "\n",
    "Visit each element of the list and verify that identifiers have already been defined or return an error."
   ]
  },
  {
   "cell_type": "markdown",
   "metadata": {},
   "source": [
    "6. Array Reference (`visit_ArrayRef`)\n",
    "\n",
    "Start by visiting the subscript. If the subscript is an identifier, verify that it has\n",
    "already been defined or return an error. Check that the type of the subscript is integer\n",
    "or return an error. Visit the name and initialize the type of the node.\n",
    "\n",
    "See the example below:\n",
    "```c\n",
    "int v[2] = {1, 2};\n",
    "float f = 0.3;\n",
    "int j = v[f];             // Error: array index must be of type(int)\n",
    "```"
   ]
  },
  {
   "cell_type": "markdown",
   "metadata": {},
   "source": [
    "7. Initialization List (`visit_InitList`)\n",
    "\n",
    "Visit each element of the list. If they are scalar (not InitList), verify they are\n",
    "constants or return an error."
   ]
  }
 ],
 "metadata": {
  "@webio": {
   "lastCommId": null,
   "lastKernelId": null
  },
  "kernelspec": {
   "display_name": "Python 3",
   "language": "python",
   "name": "python3"
  },
  "language_info": {
   "codemirror_mode": {
    "name": "ipython",
    "version": 3
   },
   "file_extension": ".py",
   "mimetype": "text/x-python",
   "name": "python",
   "nbconvert_exporter": "python",
   "pygments_lexer": "ipython3",
   "version": "3.8.5"
  },
  "latex_envs": {
   "LaTeX_envs_menu_present": true,
   "autoclose": false,
   "autocomplete": true,
   "bibliofile": "biblio.bib",
   "cite_by": "apalike",
   "current_citInitial": 1,
   "eqLabelWithNumbers": true,
   "eqNumInitial": 1,
   "hotkeys": {
    "equation": "Ctrl-E",
    "itemize": "Ctrl-I"
   },
   "labels_anchors": false,
   "latex_user_defs": false,
   "report_style_numbering": false,
   "user_envs_cfg": false
  },
  "toc": {
   "base_numbering": 1,
   "nav_menu": {},
   "number_sections": true,
   "sideBar": true,
   "skip_h1_title": false,
   "title_cell": "Table of Contents",
   "title_sidebar": "Contents",
   "toc_cell": false,
   "toc_position": {},
   "toc_section_display": true,
   "toc_window_display": false
  }
 },
 "nbformat": 4,
 "nbformat_minor": 2
}
